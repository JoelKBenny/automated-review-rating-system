{
 "cells": [
  {
   "cell_type": "markdown",
   "id": "44fd2e04-a226-4c66-a293-9d7dfc5a75a8",
   "metadata": {},
   "source": [
    "# Importing the library"
   ]
  },
  {
   "cell_type": "code",
   "execution_count": 1,
   "id": "f6936b43-bc21-4124-a16e-d6cadd986bc9",
   "metadata": {},
   "outputs": [],
   "source": [
    "import pandas as pd"
   ]
  },
  {
   "cell_type": "code",
   "execution_count": 16,
   "id": "9d1c7949-6d6a-491f-91bc-46389b9c7a33",
   "metadata": {},
   "outputs": [],
   "source": [
    "df = pd.read_csv(\"C:/Users/joelk/automated-review-rating-system/data/Kaggle Datasets/amazon-reviews-org.csv\")"
   ]
  },
  {
   "cell_type": "markdown",
   "id": "fb7325f4-e196-4e0f-976a-86595ab79538",
   "metadata": {},
   "source": [
    "### Displaying the first 5 rows of the data"
   ]
  },
  {
   "cell_type": "code",
   "execution_count": 17,
   "id": "8e9dc0dd-b04e-4497-8d12-6f42cd86ba23",
   "metadata": {},
   "outputs": [
    {
     "data": {
      "text/html": [
       "<div>\n",
       "<style scoped>\n",
       "    .dataframe tbody tr th:only-of-type {\n",
       "        vertical-align: middle;\n",
       "    }\n",
       "\n",
       "    .dataframe tbody tr th {\n",
       "        vertical-align: top;\n",
       "    }\n",
       "\n",
       "    .dataframe thead th {\n",
       "        text-align: right;\n",
       "    }\n",
       "</style>\n",
       "<table border=\"1\" class=\"dataframe\">\n",
       "  <thead>\n",
       "    <tr style=\"text-align: right;\">\n",
       "      <th></th>\n",
       "      <th>reviewId</th>\n",
       "      <th>reviewDate</th>\n",
       "      <th>mainDepartment</th>\n",
       "      <th>subDepartment</th>\n",
       "      <th>productName</th>\n",
       "      <th>reviewTitle</th>\n",
       "      <th>reviewStar</th>\n",
       "      <th>reviewText</th>\n",
       "      <th>inconsistentStatus</th>\n",
       "    </tr>\n",
       "  </thead>\n",
       "  <tbody>\n",
       "    <tr>\n",
       "      <th>0</th>\n",
       "      <td>R1TWIP923TUPRV</td>\n",
       "      <td>Reviewed in the United States on August 8, 2021</td>\n",
       "      <td>Beauty and Personal Care</td>\n",
       "      <td>Foot,Hand &amp; Nail Care</td>\n",
       "      <td>Hard As Hoof Nail Strengthening Cream with Coc...</td>\n",
       "      <td>Didn't work</td>\n",
       "      <td>1.0</td>\n",
       "      <td>No change in nails at all.</td>\n",
       "      <td>0</td>\n",
       "    </tr>\n",
       "    <tr>\n",
       "      <th>1</th>\n",
       "      <td>R1N5I12682L3YY</td>\n",
       "      <td>Reviewed in the United States on August 2, 2021</td>\n",
       "      <td>Beauty and Personal Care</td>\n",
       "      <td>Foot,Hand &amp; Nail Care</td>\n",
       "      <td>Hard As Hoof Nail Strengthening Cream with Coc...</td>\n",
       "      <td>Worst nail product I have ever used.</td>\n",
       "      <td>1.0</td>\n",
       "      <td>Garbage! Do not waste your $$$. My nails were ...</td>\n",
       "      <td>1</td>\n",
       "    </tr>\n",
       "    <tr>\n",
       "      <th>2</th>\n",
       "      <td>R1S3UGVIPYX6W5</td>\n",
       "      <td>Reviewed in the United States on July 27, 2021</td>\n",
       "      <td>Beauty and Personal Care</td>\n",
       "      <td>Foot,Hand &amp; Nail Care</td>\n",
       "      <td>Hard As Hoof Nail Strengthening Cream with Coc...</td>\n",
       "      <td>Just didn't work</td>\n",
       "      <td>1.0</td>\n",
       "      <td>Nails are still brittle</td>\n",
       "      <td>1</td>\n",
       "    </tr>\n",
       "    <tr>\n",
       "      <th>3</th>\n",
       "      <td>R3RELGNNBTGZ2V</td>\n",
       "      <td>Reviewed in the United States on July 26, 2021</td>\n",
       "      <td>Beauty and Personal Care</td>\n",
       "      <td>Foot,Hand &amp; Nail Care</td>\n",
       "      <td>Hard As Hoof Nail Strengthening Cream with Coc...</td>\n",
       "      <td>Scum</td>\n",
       "      <td>1.0</td>\n",
       "      <td>Didn’t do any improvement at all.</td>\n",
       "      <td>0</td>\n",
       "    </tr>\n",
       "    <tr>\n",
       "      <th>4</th>\n",
       "      <td>RLQ9C5R2KYV67</td>\n",
       "      <td>Reviewed in the United States on July 24, 2021</td>\n",
       "      <td>Beauty and Personal Care</td>\n",
       "      <td>Foot,Hand &amp; Nail Care</td>\n",
       "      <td>Hard As Hoof Nail Strengthening Cream with Coc...</td>\n",
       "      <td>Okay for cuticles</td>\n",
       "      <td>1.0</td>\n",
       "      <td>Helped cuticles, didn't do much for my nails. ...</td>\n",
       "      <td>0</td>\n",
       "    </tr>\n",
       "  </tbody>\n",
       "</table>\n",
       "</div>"
      ],
      "text/plain": [
       "         reviewId                                       reviewDate  \\\n",
       "0  R1TWIP923TUPRV  Reviewed in the United States on August 8, 2021   \n",
       "1  R1N5I12682L3YY  Reviewed in the United States on August 2, 2021   \n",
       "2  R1S3UGVIPYX6W5   Reviewed in the United States on July 27, 2021   \n",
       "3  R3RELGNNBTGZ2V   Reviewed in the United States on July 26, 2021   \n",
       "4   RLQ9C5R2KYV67   Reviewed in the United States on July 24, 2021   \n",
       "\n",
       "             mainDepartment          subDepartment  \\\n",
       "0  Beauty and Personal Care  Foot,Hand & Nail Care   \n",
       "1  Beauty and Personal Care  Foot,Hand & Nail Care   \n",
       "2  Beauty and Personal Care  Foot,Hand & Nail Care   \n",
       "3  Beauty and Personal Care  Foot,Hand & Nail Care   \n",
       "4  Beauty and Personal Care  Foot,Hand & Nail Care   \n",
       "\n",
       "                                         productName  \\\n",
       "0  Hard As Hoof Nail Strengthening Cream with Coc...   \n",
       "1  Hard As Hoof Nail Strengthening Cream with Coc...   \n",
       "2  Hard As Hoof Nail Strengthening Cream with Coc...   \n",
       "3  Hard As Hoof Nail Strengthening Cream with Coc...   \n",
       "4  Hard As Hoof Nail Strengthening Cream with Coc...   \n",
       "\n",
       "                            reviewTitle  reviewStar  \\\n",
       "0                           Didn't work         1.0   \n",
       "1  Worst nail product I have ever used.         1.0   \n",
       "2                      Just didn't work         1.0   \n",
       "3                                  Scum         1.0   \n",
       "4                     Okay for cuticles         1.0   \n",
       "\n",
       "                                          reviewText  inconsistentStatus  \n",
       "0                         No change in nails at all.                   0  \n",
       "1  Garbage! Do not waste your $$$. My nails were ...                   1  \n",
       "2                            Nails are still brittle                   1  \n",
       "3                  Didn’t do any improvement at all.                   0  \n",
       "4  Helped cuticles, didn't do much for my nails. ...                   0  "
      ]
     },
     "execution_count": 17,
     "metadata": {},
     "output_type": "execute_result"
    }
   ],
   "source": [
    "df.head()"
   ]
  },
  {
   "cell_type": "markdown",
   "id": "ee7ad6e4-2e33-4534-89df-918135651a1d",
   "metadata": {},
   "source": [
    "### Displaying the last 5 rows of the data"
   ]
  },
  {
   "cell_type": "code",
   "execution_count": 18,
   "id": "6af13a8b-b7b1-484b-9193-80bb1eaf31bb",
   "metadata": {},
   "outputs": [
    {
     "data": {
      "text/html": [
       "<div>\n",
       "<style scoped>\n",
       "    .dataframe tbody tr th:only-of-type {\n",
       "        vertical-align: middle;\n",
       "    }\n",
       "\n",
       "    .dataframe tbody tr th {\n",
       "        vertical-align: top;\n",
       "    }\n",
       "\n",
       "    .dataframe thead th {\n",
       "        text-align: right;\n",
       "    }\n",
       "</style>\n",
       "<table border=\"1\" class=\"dataframe\">\n",
       "  <thead>\n",
       "    <tr style=\"text-align: right;\">\n",
       "      <th></th>\n",
       "      <th>reviewId</th>\n",
       "      <th>reviewDate</th>\n",
       "      <th>mainDepartment</th>\n",
       "      <th>subDepartment</th>\n",
       "      <th>productName</th>\n",
       "      <th>reviewTitle</th>\n",
       "      <th>reviewStar</th>\n",
       "      <th>reviewText</th>\n",
       "      <th>inconsistentStatus</th>\n",
       "    </tr>\n",
       "  </thead>\n",
       "  <tbody>\n",
       "    <tr>\n",
       "      <th>72495</th>\n",
       "      <td>R30804VMSZ3FJV</td>\n",
       "      <td>Reviewed in the United States on August 10, 2021</td>\n",
       "      <td>Sports and Outdoors</td>\n",
       "      <td>Sports &amp; Fitness</td>\n",
       "      <td>Amazon Basics Extra Thick Exercise Yoga Gym Fl...</td>\n",
       "      <td>Good, durable exercise mat</td>\n",
       "      <td>5.0</td>\n",
       "      <td>I use this every day for exercise and it is ho...</td>\n",
       "      <td>0</td>\n",
       "    </tr>\n",
       "    <tr>\n",
       "      <th>72496</th>\n",
       "      <td>R35ZZJ3GVTXPTK</td>\n",
       "      <td>Reviewed in the United States on August 10, 2021</td>\n",
       "      <td>Sports and Outdoors</td>\n",
       "      <td>Sports &amp; Fitness</td>\n",
       "      <td>Amazon Basics Extra Thick Exercise Yoga Gym Fl...</td>\n",
       "      <td>Stinky mat- but I read that</td>\n",
       "      <td>5.0</td>\n",
       "      <td>This mat does stink, but it’s a great thick st...</td>\n",
       "      <td>0</td>\n",
       "    </tr>\n",
       "    <tr>\n",
       "      <th>72497</th>\n",
       "      <td>R3D3SBYYL2B89F</td>\n",
       "      <td>Reviewed in the United States on August 8, 2021</td>\n",
       "      <td>Sports and Outdoors</td>\n",
       "      <td>Sports &amp; Fitness</td>\n",
       "      <td>Amazon Basics Extra Thick Exercise Yoga Gym Fl...</td>\n",
       "      <td>Does the job!</td>\n",
       "      <td>5.0</td>\n",
       "      <td>I’m 5:11, this mat leaves about a foot of spac...</td>\n",
       "      <td>1</td>\n",
       "    </tr>\n",
       "    <tr>\n",
       "      <th>72498</th>\n",
       "      <td>R39XYTZVRFUQIC</td>\n",
       "      <td>Reviewed in the United States on August 8, 2021</td>\n",
       "      <td>Sports and Outdoors</td>\n",
       "      <td>Sports &amp; Fitness</td>\n",
       "      <td>Amazon Basics Extra Thick Exercise Yoga Gym Fl...</td>\n",
       "      <td>Love it</td>\n",
       "      <td>5.0</td>\n",
       "      <td>I’ve gotten 3 of theses for friends and family...</td>\n",
       "      <td>0</td>\n",
       "    </tr>\n",
       "    <tr>\n",
       "      <th>72499</th>\n",
       "      <td>RF3RQLKFB32N2</td>\n",
       "      <td>Reviewed in the United States on August 8, 2021</td>\n",
       "      <td>Sports and Outdoors</td>\n",
       "      <td>Sports &amp; Fitness</td>\n",
       "      <td>Amazon Basics Extra Thick Exercise Yoga Gym Fl...</td>\n",
       "      <td>Very soft.</td>\n",
       "      <td>5.0</td>\n",
       "      <td>Used in my yoga practice.</td>\n",
       "      <td>1</td>\n",
       "    </tr>\n",
       "  </tbody>\n",
       "</table>\n",
       "</div>"
      ],
      "text/plain": [
       "             reviewId                                        reviewDate  \\\n",
       "72495  R30804VMSZ3FJV  Reviewed in the United States on August 10, 2021   \n",
       "72496  R35ZZJ3GVTXPTK  Reviewed in the United States on August 10, 2021   \n",
       "72497  R3D3SBYYL2B89F   Reviewed in the United States on August 8, 2021   \n",
       "72498  R39XYTZVRFUQIC   Reviewed in the United States on August 8, 2021   \n",
       "72499   RF3RQLKFB32N2   Reviewed in the United States on August 8, 2021   \n",
       "\n",
       "            mainDepartment     subDepartment  \\\n",
       "72495  Sports and Outdoors  Sports & Fitness   \n",
       "72496  Sports and Outdoors  Sports & Fitness   \n",
       "72497  Sports and Outdoors  Sports & Fitness   \n",
       "72498  Sports and Outdoors  Sports & Fitness   \n",
       "72499  Sports and Outdoors  Sports & Fitness   \n",
       "\n",
       "                                             productName  \\\n",
       "72495  Amazon Basics Extra Thick Exercise Yoga Gym Fl...   \n",
       "72496  Amazon Basics Extra Thick Exercise Yoga Gym Fl...   \n",
       "72497  Amazon Basics Extra Thick Exercise Yoga Gym Fl...   \n",
       "72498  Amazon Basics Extra Thick Exercise Yoga Gym Fl...   \n",
       "72499  Amazon Basics Extra Thick Exercise Yoga Gym Fl...   \n",
       "\n",
       "                       reviewTitle  reviewStar  \\\n",
       "72495   Good, durable exercise mat         5.0   \n",
       "72496  Stinky mat- but I read that         5.0   \n",
       "72497                Does the job!         5.0   \n",
       "72498                      Love it         5.0   \n",
       "72499                   Very soft.         5.0   \n",
       "\n",
       "                                              reviewText  inconsistentStatus  \n",
       "72495  I use this every day for exercise and it is ho...                   0  \n",
       "72496  This mat does stink, but it’s a great thick st...                   0  \n",
       "72497  I’m 5:11, this mat leaves about a foot of spac...                   1  \n",
       "72498  I’ve gotten 3 of theses for friends and family...                   0  \n",
       "72499                          Used in my yoga practice.                   1  "
      ]
     },
     "execution_count": 18,
     "metadata": {},
     "output_type": "execute_result"
    }
   ],
   "source": [
    "df.tail()"
   ]
  },
  {
   "cell_type": "markdown",
   "id": "f478bddc-a2c1-4784-9954-54f3749bead0",
   "metadata": {},
   "source": [
    "### Displaying 5 random rows of the data"
   ]
  },
  {
   "cell_type": "code",
   "execution_count": 7,
   "id": "0a9221b6-e60e-46ef-a5ee-3962dcc8484c",
   "metadata": {},
   "outputs": [
    {
     "data": {
      "text/html": [
       "<div>\n",
       "<style scoped>\n",
       "    .dataframe tbody tr th:only-of-type {\n",
       "        vertical-align: middle;\n",
       "    }\n",
       "\n",
       "    .dataframe tbody tr th {\n",
       "        vertical-align: top;\n",
       "    }\n",
       "\n",
       "    .dataframe thead th {\n",
       "        text-align: right;\n",
       "    }\n",
       "</style>\n",
       "<table border=\"1\" class=\"dataframe\">\n",
       "  <thead>\n",
       "    <tr style=\"text-align: right;\">\n",
       "      <th></th>\n",
       "      <th>id</th>\n",
       "      <th>name</th>\n",
       "      <th>asins</th>\n",
       "      <th>brand</th>\n",
       "      <th>categories</th>\n",
       "      <th>keys</th>\n",
       "      <th>manufacturer</th>\n",
       "      <th>reviews.date</th>\n",
       "      <th>reviews.dateAdded</th>\n",
       "      <th>reviews.dateSeen</th>\n",
       "      <th>...</th>\n",
       "      <th>reviews.doRecommend</th>\n",
       "      <th>reviews.id</th>\n",
       "      <th>reviews.numHelpful</th>\n",
       "      <th>reviews.rating</th>\n",
       "      <th>reviews.sourceURLs</th>\n",
       "      <th>reviews.text</th>\n",
       "      <th>reviews.title</th>\n",
       "      <th>reviews.userCity</th>\n",
       "      <th>reviews.userProvince</th>\n",
       "      <th>reviews.username</th>\n",
       "    </tr>\n",
       "  </thead>\n",
       "  <tbody>\n",
       "    <tr>\n",
       "      <th>26373</th>\n",
       "      <td>AVpfl8cLLJeJML43AE3S</td>\n",
       "      <td>Amazon Fire Tv,,,\\r\\nAmazon Fire Tv,,,</td>\n",
       "      <td>B00L9EPT8O,B01E6AO69U</td>\n",
       "      <td>Amazon</td>\n",
       "      <td>Stereos,Remote Controls,Amazon Echo,Audio Dock...</td>\n",
       "      <td>echowhite/263039693056,echowhite/152558276095,...</td>\n",
       "      <td>Amazon</td>\n",
       "      <td>2017-03-17T00:00:00.000Z</td>\n",
       "      <td>NaN</td>\n",
       "      <td>2017-09-28T00:00:00Z,2017-09-08T00:00:00Z,2017...</td>\n",
       "      <td>...</td>\n",
       "      <td>True</td>\n",
       "      <td>NaN</td>\n",
       "      <td>0.0</td>\n",
       "      <td>4.0</td>\n",
       "      <td>http://reviews.bestbuy.com/3545/5588528/review...</td>\n",
       "      <td>We're having fun playing with that but sometim...</td>\n",
       "      <td>Easy to operate</td>\n",
       "      <td>NaN</td>\n",
       "      <td>NaN</td>\n",
       "      <td>Leia</td>\n",
       "    </tr>\n",
       "    <tr>\n",
       "      <th>28572</th>\n",
       "      <td>AVzoGHhAglJLPUi8GfzY</td>\n",
       "      <td>NaN</td>\n",
       "      <td>B00X4WHP5E</td>\n",
       "      <td>Amazon</td>\n",
       "      <td>TVs Entertainment,Wireless Speakers,Virtual As...</td>\n",
       "      <td>echoblack/122590756021,echoblack/302383519724,...</td>\n",
       "      <td>Amazon</td>\n",
       "      <td>2017-01-25T00:00:00.000Z</td>\n",
       "      <td>NaN</td>\n",
       "      <td>2017-09-28T00:00:00Z</td>\n",
       "      <td>...</td>\n",
       "      <td>NaN</td>\n",
       "      <td>NaN</td>\n",
       "      <td>NaN</td>\n",
       "      <td>5.0</td>\n",
       "      <td>http://www.ebay.com/itm/Amazon-Echo-w-Alexa-Vo...</td>\n",
       "      <td>The Amazon Echo is a really fun thing to play ...</td>\n",
       "      <td>Alexa, tell me a joke!</td>\n",
       "      <td>NaN</td>\n",
       "      <td>NaN</td>\n",
       "      <td>bopsterjazz</td>\n",
       "    </tr>\n",
       "    <tr>\n",
       "      <th>5</th>\n",
       "      <td>AVqkIhwDv8e3D1O-lebb</td>\n",
       "      <td>All-New Fire HD 8 Tablet, 8 HD Display, Wi-Fi,...</td>\n",
       "      <td>B01AHB9CN2</td>\n",
       "      <td>Amazon</td>\n",
       "      <td>Electronics,iPad &amp; Tablets,All Tablets,Fire Ta...</td>\n",
       "      <td>841667104676,amazon/53004484,amazon/b01ahb9cn2...</td>\n",
       "      <td>Amazon</td>\n",
       "      <td>2017-01-12T00:00:00.000Z</td>\n",
       "      <td>2017-07-03T23:33:15Z</td>\n",
       "      <td>2017-06-07T09:04:00.000Z,2017-04-30T00:45:00.000Z</td>\n",
       "      <td>...</td>\n",
       "      <td>True</td>\n",
       "      <td>NaN</td>\n",
       "      <td>0.0</td>\n",
       "      <td>5.0</td>\n",
       "      <td>http://reviews.bestbuy.com/3545/5620406/review...</td>\n",
       "      <td>This amazon fire 8 inch tablet is the perfect ...</td>\n",
       "      <td>Just what we expected</td>\n",
       "      <td>NaN</td>\n",
       "      <td>NaN</td>\n",
       "      <td>tklit</td>\n",
       "    </tr>\n",
       "    <tr>\n",
       "      <th>8816</th>\n",
       "      <td>AVphgVaX1cnluZ0-DR74</td>\n",
       "      <td>Fire Tablet, 7 Display, Wi-Fi, 8 GB - Includes...</td>\n",
       "      <td>B018Y229OU</td>\n",
       "      <td>Amazon</td>\n",
       "      <td>Fire Tablets,Tablets,Computers &amp; Tablets,All T...</td>\n",
       "      <td>firetablet7displaywifi8gbincludesspecialoffers...</td>\n",
       "      <td>Amazon</td>\n",
       "      <td>2017-01-16T00:00:00.000Z</td>\n",
       "      <td>2017-05-21T01:35:03Z</td>\n",
       "      <td>2017-04-30T00:11:00.000Z,2017-06-07T08:12:00.000Z</td>\n",
       "      <td>...</td>\n",
       "      <td>True</td>\n",
       "      <td>NaN</td>\n",
       "      <td>0.0</td>\n",
       "      <td>4.0</td>\n",
       "      <td>http://reviews.bestbuy.com/3545/5025800/review...</td>\n",
       "      <td>Good tablet, very good quality. The screen loo...</td>\n",
       "      <td>Good but not enough</td>\n",
       "      <td>NaN</td>\n",
       "      <td>NaN</td>\n",
       "      <td>JRSaltillo</td>\n",
       "    </tr>\n",
       "    <tr>\n",
       "      <th>32002</th>\n",
       "      <td>AV1YE_muvKc47QAVgpwE</td>\n",
       "      <td>NaN</td>\n",
       "      <td>B00U3FPN4U</td>\n",
       "      <td>Amazon Fire Tv</td>\n",
       "      <td>Back To College,College Electronics,College Tv...</td>\n",
       "      <td>848719057492,amazonfiretv/51454342,amazonfiret...</td>\n",
       "      <td>Amazon</td>\n",
       "      <td>2017-02-15T00:00:00.000Z</td>\n",
       "      <td>2017-09-20T05:35:53Z</td>\n",
       "      <td>2017-08-25T22:07:32.657Z,2017-08-19T09:36:17.8...</td>\n",
       "      <td>...</td>\n",
       "      <td>True</td>\n",
       "      <td>NaN</td>\n",
       "      <td>0.0</td>\n",
       "      <td>5.0</td>\n",
       "      <td>http://reviews.bestbuy.com/3545/4370400/review...</td>\n",
       "      <td>Overall, very easy to install. I use stick on ...</td>\n",
       "      <td>Light low profile functions great</td>\n",
       "      <td>NaN</td>\n",
       "      <td>NaN</td>\n",
       "      <td>Tfam4</td>\n",
       "    </tr>\n",
       "  </tbody>\n",
       "</table>\n",
       "<p>5 rows × 21 columns</p>\n",
       "</div>"
      ],
      "text/plain": [
       "                         id  \\\n",
       "26373  AVpfl8cLLJeJML43AE3S   \n",
       "28572  AVzoGHhAglJLPUi8GfzY   \n",
       "5      AVqkIhwDv8e3D1O-lebb   \n",
       "8816   AVphgVaX1cnluZ0-DR74   \n",
       "32002  AV1YE_muvKc47QAVgpwE   \n",
       "\n",
       "                                                    name  \\\n",
       "26373             Amazon Fire Tv,,,\\r\\nAmazon Fire Tv,,,   \n",
       "28572                                                NaN   \n",
       "5      All-New Fire HD 8 Tablet, 8 HD Display, Wi-Fi,...   \n",
       "8816   Fire Tablet, 7 Display, Wi-Fi, 8 GB - Includes...   \n",
       "32002                                                NaN   \n",
       "\n",
       "                       asins           brand  \\\n",
       "26373  B00L9EPT8O,B01E6AO69U          Amazon   \n",
       "28572             B00X4WHP5E          Amazon   \n",
       "5                 B01AHB9CN2          Amazon   \n",
       "8816              B018Y229OU          Amazon   \n",
       "32002             B00U3FPN4U  Amazon Fire Tv   \n",
       "\n",
       "                                              categories  \\\n",
       "26373  Stereos,Remote Controls,Amazon Echo,Audio Dock...   \n",
       "28572  TVs Entertainment,Wireless Speakers,Virtual As...   \n",
       "5      Electronics,iPad & Tablets,All Tablets,Fire Ta...   \n",
       "8816   Fire Tablets,Tablets,Computers & Tablets,All T...   \n",
       "32002  Back To College,College Electronics,College Tv...   \n",
       "\n",
       "                                                    keys manufacturer  \\\n",
       "26373  echowhite/263039693056,echowhite/152558276095,...       Amazon   \n",
       "28572  echoblack/122590756021,echoblack/302383519724,...       Amazon   \n",
       "5      841667104676,amazon/53004484,amazon/b01ahb9cn2...       Amazon   \n",
       "8816   firetablet7displaywifi8gbincludesspecialoffers...       Amazon   \n",
       "32002  848719057492,amazonfiretv/51454342,amazonfiret...       Amazon   \n",
       "\n",
       "                   reviews.date     reviews.dateAdded  \\\n",
       "26373  2017-03-17T00:00:00.000Z                   NaN   \n",
       "28572  2017-01-25T00:00:00.000Z                   NaN   \n",
       "5      2017-01-12T00:00:00.000Z  2017-07-03T23:33:15Z   \n",
       "8816   2017-01-16T00:00:00.000Z  2017-05-21T01:35:03Z   \n",
       "32002  2017-02-15T00:00:00.000Z  2017-09-20T05:35:53Z   \n",
       "\n",
       "                                        reviews.dateSeen  ...  \\\n",
       "26373  2017-09-28T00:00:00Z,2017-09-08T00:00:00Z,2017...  ...   \n",
       "28572                               2017-09-28T00:00:00Z  ...   \n",
       "5      2017-06-07T09:04:00.000Z,2017-04-30T00:45:00.000Z  ...   \n",
       "8816   2017-04-30T00:11:00.000Z,2017-06-07T08:12:00.000Z  ...   \n",
       "32002  2017-08-25T22:07:32.657Z,2017-08-19T09:36:17.8...  ...   \n",
       "\n",
       "      reviews.doRecommend reviews.id  reviews.numHelpful  reviews.rating  \\\n",
       "26373                True        NaN                 0.0             4.0   \n",
       "28572                 NaN        NaN                 NaN             5.0   \n",
       "5                    True        NaN                 0.0             5.0   \n",
       "8816                 True        NaN                 0.0             4.0   \n",
       "32002                True        NaN                 0.0             5.0   \n",
       "\n",
       "                                      reviews.sourceURLs  \\\n",
       "26373  http://reviews.bestbuy.com/3545/5588528/review...   \n",
       "28572  http://www.ebay.com/itm/Amazon-Echo-w-Alexa-Vo...   \n",
       "5      http://reviews.bestbuy.com/3545/5620406/review...   \n",
       "8816   http://reviews.bestbuy.com/3545/5025800/review...   \n",
       "32002  http://reviews.bestbuy.com/3545/4370400/review...   \n",
       "\n",
       "                                            reviews.text  \\\n",
       "26373  We're having fun playing with that but sometim...   \n",
       "28572  The Amazon Echo is a really fun thing to play ...   \n",
       "5      This amazon fire 8 inch tablet is the perfect ...   \n",
       "8816   Good tablet, very good quality. The screen loo...   \n",
       "32002  Overall, very easy to install. I use stick on ...   \n",
       "\n",
       "                           reviews.title reviews.userCity  \\\n",
       "26373                    Easy to operate              NaN   \n",
       "28572             Alexa, tell me a joke!              NaN   \n",
       "5                  Just what we expected              NaN   \n",
       "8816                 Good but not enough              NaN   \n",
       "32002  Light low profile functions great              NaN   \n",
       "\n",
       "       reviews.userProvince  reviews.username  \n",
       "26373                   NaN              Leia  \n",
       "28572                   NaN       bopsterjazz  \n",
       "5                       NaN             tklit  \n",
       "8816                    NaN        JRSaltillo  \n",
       "32002                   NaN             Tfam4  \n",
       "\n",
       "[5 rows x 21 columns]"
      ]
     },
     "execution_count": 7,
     "metadata": {},
     "output_type": "execute_result"
    }
   ],
   "source": [
    "df.sample(5)"
   ]
  },
  {
   "cell_type": "code",
   "execution_count": 19,
   "id": "29ff77a9-1cd3-48e5-ab5d-6c42e4647965",
   "metadata": {},
   "outputs": [
    {
     "data": {
      "text/plain": [
       "(72500, 9)"
      ]
     },
     "execution_count": 19,
     "metadata": {},
     "output_type": "execute_result"
    }
   ],
   "source": [
    "df.shape\n"
   ]
  },
  {
   "cell_type": "markdown",
   "id": "bbd98cbe-6d3e-4e83-914f-a9b6cd4a907b",
   "metadata": {},
   "source": [
    "#### The dataset contains 72500 rows of data with 9 attributes."
   ]
  },
  {
   "cell_type": "code",
   "execution_count": 20,
   "id": "03d4ccea-91cf-4dfe-8a30-6bf3193a491f",
   "metadata": {},
   "outputs": [
    {
     "data": {
      "text/plain": [
       "Index(['reviewId', 'reviewDate', 'mainDepartment', 'subDepartment',\n",
       "       'productName', 'reviewTitle', 'reviewStar', 'reviewText',\n",
       "       'inconsistentStatus'],\n",
       "      dtype='object')"
      ]
     },
     "execution_count": 20,
     "metadata": {},
     "output_type": "execute_result"
    }
   ],
   "source": [
    "df.columns\n"
   ]
  },
  {
   "cell_type": "code",
   "execution_count": 21,
   "id": "01c16d02-17e5-4014-9ed8-e7165c133d5d",
   "metadata": {},
   "outputs": [
    {
     "name": "stdout",
     "output_type": "stream",
     "text": [
      "<class 'pandas.core.frame.DataFrame'>\n",
      "RangeIndex: 72500 entries, 0 to 72499\n",
      "Data columns (total 9 columns):\n",
      " #   Column              Non-Null Count  Dtype  \n",
      "---  ------              --------------  -----  \n",
      " 0   reviewId            72500 non-null  object \n",
      " 1   reviewDate          72500 non-null  object \n",
      " 2   mainDepartment      72500 non-null  object \n",
      " 3   subDepartment       72500 non-null  object \n",
      " 4   productName         72500 non-null  object \n",
      " 5   reviewTitle         72480 non-null  object \n",
      " 6   reviewStar          72500 non-null  float64\n",
      " 7   reviewText          72493 non-null  object \n",
      " 8   inconsistentStatus  72500 non-null  int64  \n",
      "dtypes: float64(1), int64(1), object(7)\n",
      "memory usage: 5.0+ MB\n"
     ]
    }
   ],
   "source": [
    "df.info()"
   ]
  },
  {
   "cell_type": "code",
   "execution_count": 22,
   "id": "8bba5bc2-ffee-4a7b-b383-0c9e17505f46",
   "metadata": {},
   "outputs": [
    {
     "data": {
      "text/html": [
       "<div>\n",
       "<style scoped>\n",
       "    .dataframe tbody tr th:only-of-type {\n",
       "        vertical-align: middle;\n",
       "    }\n",
       "\n",
       "    .dataframe tbody tr th {\n",
       "        vertical-align: top;\n",
       "    }\n",
       "\n",
       "    .dataframe thead th {\n",
       "        text-align: right;\n",
       "    }\n",
       "</style>\n",
       "<table border=\"1\" class=\"dataframe\">\n",
       "  <thead>\n",
       "    <tr style=\"text-align: right;\">\n",
       "      <th></th>\n",
       "      <th>reviewStar</th>\n",
       "      <th>inconsistentStatus</th>\n",
       "    </tr>\n",
       "  </thead>\n",
       "  <tbody>\n",
       "    <tr>\n",
       "      <th>count</th>\n",
       "      <td>72500.000000</td>\n",
       "      <td>72500.000000</td>\n",
       "    </tr>\n",
       "    <tr>\n",
       "      <th>mean</th>\n",
       "      <td>3.000000</td>\n",
       "      <td>0.444455</td>\n",
       "    </tr>\n",
       "    <tr>\n",
       "      <th>std</th>\n",
       "      <td>1.414223</td>\n",
       "      <td>0.496909</td>\n",
       "    </tr>\n",
       "    <tr>\n",
       "      <th>min</th>\n",
       "      <td>1.000000</td>\n",
       "      <td>0.000000</td>\n",
       "    </tr>\n",
       "    <tr>\n",
       "      <th>25%</th>\n",
       "      <td>2.000000</td>\n",
       "      <td>0.000000</td>\n",
       "    </tr>\n",
       "    <tr>\n",
       "      <th>50%</th>\n",
       "      <td>3.000000</td>\n",
       "      <td>0.000000</td>\n",
       "    </tr>\n",
       "    <tr>\n",
       "      <th>75%</th>\n",
       "      <td>4.000000</td>\n",
       "      <td>1.000000</td>\n",
       "    </tr>\n",
       "    <tr>\n",
       "      <th>max</th>\n",
       "      <td>5.000000</td>\n",
       "      <td>1.000000</td>\n",
       "    </tr>\n",
       "  </tbody>\n",
       "</table>\n",
       "</div>"
      ],
      "text/plain": [
       "         reviewStar  inconsistentStatus\n",
       "count  72500.000000        72500.000000\n",
       "mean       3.000000            0.444455\n",
       "std        1.414223            0.496909\n",
       "min        1.000000            0.000000\n",
       "25%        2.000000            0.000000\n",
       "50%        3.000000            0.000000\n",
       "75%        4.000000            1.000000\n",
       "max        5.000000            1.000000"
      ]
     },
     "execution_count": 22,
     "metadata": {},
     "output_type": "execute_result"
    }
   ],
   "source": [
    "df.describe()\n"
   ]
  },
  {
   "cell_type": "markdown",
   "id": "da01d527-f145-4c50-9dc0-8c46a9a50588",
   "metadata": {},
   "source": [
    "### Checking for missing values"
   ]
  },
  {
   "cell_type": "code",
   "execution_count": 25,
   "id": "a9bcc781-74d9-4fb6-b326-b3b590604c43",
   "metadata": {},
   "outputs": [
    {
     "data": {
      "text/plain": [
       "reviewId               0\n",
       "reviewDate             0\n",
       "mainDepartment         0\n",
       "subDepartment          0\n",
       "productName            0\n",
       "reviewTitle           20\n",
       "reviewStar             0\n",
       "reviewText             7\n",
       "inconsistentStatus     0\n",
       "dtype: int64"
      ]
     },
     "execution_count": 25,
     "metadata": {},
     "output_type": "execute_result"
    }
   ],
   "source": [
    "df.isnull().sum()"
   ]
  },
  {
   "cell_type": "markdown",
   "id": "09d67663-b683-4da5-bcd2-e105147db754",
   "metadata": {},
   "source": [
    "### Checking for duplication"
   ]
  },
  {
   "cell_type": "code",
   "execution_count": 26,
   "id": "31472f5d-878b-410d-b458-7740cd20f48a",
   "metadata": {},
   "outputs": [
    {
     "data": {
      "text/plain": [
       "np.int64(0)"
      ]
     },
     "execution_count": 26,
     "metadata": {},
     "output_type": "execute_result"
    }
   ],
   "source": [
    "df.duplicated().sum()"
   ]
  },
  {
   "cell_type": "code",
   "execution_count": 29,
   "id": "8eaea777-877d-4684-8528-8b8978435a12",
   "metadata": {},
   "outputs": [
    {
     "data": {
      "text/plain": [
       "array([1., 2., 3., 4., 5.])"
      ]
     },
     "execution_count": 29,
     "metadata": {},
     "output_type": "execute_result"
    }
   ],
   "source": [
    "df['reviewStar'].unique()"
   ]
  },
  {
   "cell_type": "code",
   "execution_count": 32,
   "id": "68ac1f08-9ef9-4198-808e-0298f16a8841",
   "metadata": {},
   "outputs": [
    {
     "data": {
      "text/plain": [
       "13548    It says in the description that it is fragranc...\n",
       "33734                  It was ok, not as good as expected.\n",
       "50056    These buttons are clicky!!!! Clicks when you p...\n",
       "12291    I loved close this worked without pain or irri...\n",
       "6589     This thing definitely works! I have long curly...\n",
       "50634    I've used this scale for a large number of coo...\n",
       "32939                         Used, damaged, not refunded.\n",
       "60428    Does Not keep Proper Time. Continues to be 3mi...\n",
       "52377    One of the best investments that I’ve made for...\n",
       "47496    Bought this desk to go in my daughters room fo...\n",
       "Name: reviewText, dtype: object"
      ]
     },
     "execution_count": 32,
     "metadata": {},
     "output_type": "execute_result"
    }
   ],
   "source": [
    "df['reviewText'].sample(10)     \n",
    " \n"
   ]
  },
  {
   "cell_type": "code",
   "execution_count": 34,
   "id": "308e37d7-1f7e-4023-9664-b22d807eb6ef",
   "metadata": {},
   "outputs": [
    {
     "data": {
      "text/plain": [
       "reviewId               0\n",
       "reviewDate             0\n",
       "mainDepartment         0\n",
       "subDepartment          0\n",
       "productName            0\n",
       "reviewTitle           20\n",
       "reviewStar             0\n",
       "reviewText             7\n",
       "inconsistentStatus     0\n",
       "dtype: int64"
      ]
     },
     "execution_count": 34,
     "metadata": {},
     "output_type": "execute_result"
    }
   ],
   "source": [
    "df.isnull().sum()"
   ]
  },
  {
   "cell_type": "markdown",
   "id": "c24519ea-6a19-46f4-8009-0e42a010ee7b",
   "metadata": {},
   "source": [
    "### Dropping rows with missing values"
   ]
  },
  {
   "cell_type": "code",
   "execution_count": 35,
   "id": "2ec86366-3a0f-4a1a-91b1-f488b6a81b2d",
   "metadata": {},
   "outputs": [],
   "source": [
    "df = df.dropna(subset=['reviewText', 'reviewTitle'])"
   ]
  },
  {
   "cell_type": "code",
   "execution_count": 36,
   "id": "0ca1a617-6790-4d83-8b15-dc8848a255f0",
   "metadata": {},
   "outputs": [
    {
     "data": {
      "text/plain": [
       "reviewId              0\n",
       "reviewDate            0\n",
       "mainDepartment        0\n",
       "subDepartment         0\n",
       "productName           0\n",
       "reviewTitle           0\n",
       "reviewStar            0\n",
       "reviewText            0\n",
       "inconsistentStatus    0\n",
       "dtype: int64"
      ]
     },
     "execution_count": 36,
     "metadata": {},
     "output_type": "execute_result"
    }
   ],
   "source": [
    "df.isnull().sum()"
   ]
  },
  {
   "cell_type": "markdown",
   "id": "7dbe583c-01a8-4b30-8a40-ec776f75f464",
   "metadata": {},
   "source": [
    "### Dropping unnecessary columns"
   ]
  },
  {
   "cell_type": "code",
   "execution_count": 37,
   "id": "b93e2a80-4bfc-4317-bf8a-9c2b761dae71",
   "metadata": {},
   "outputs": [],
   "source": [
    "df = df.drop(columns=['reviewId'])"
   ]
  },
  {
   "cell_type": "markdown",
   "id": "8f2b6794-1b27-4a6a-9aaa-f148efb3b682",
   "metadata": {},
   "source": [
    "### Renaming coulmns"
   ]
  },
  {
   "cell_type": "code",
   "execution_count": 38,
   "id": "d24a82d6-bbe6-4fcb-b223-f3443b37fa53",
   "metadata": {},
   "outputs": [],
   "source": [
    "df.rename(columns={'reviewStar': 'rating'}, inplace=True)"
   ]
  },
  {
   "cell_type": "markdown",
   "id": "7d603d5b-13c3-4caa-9609-e3217bca5f6b",
   "metadata": {},
   "source": [
    "### Saving the preprocessed data"
   ]
  },
  {
   "cell_type": "code",
   "execution_count": 39,
   "id": "d263f9e8-490a-4dd8-ad74-2336ed4f0e25",
   "metadata": {},
   "outputs": [],
   "source": [
    "df.to_csv(\"cleaned_amazon_reviews.csv\", index=False)\n"
   ]
  },
  {
   "cell_type": "code",
   "execution_count": null,
   "id": "6c5fd44b-be05-4681-b7a8-948f31578408",
   "metadata": {},
   "outputs": [],
   "source": []
  }
 ],
 "metadata": {
  "kernelspec": {
   "display_name": "Python [conda env:base] *",
   "language": "python",
   "name": "conda-base-py"
  },
  "language_info": {
   "codemirror_mode": {
    "name": "ipython",
    "version": 3
   },
   "file_extension": ".py",
   "mimetype": "text/x-python",
   "name": "python",
   "nbconvert_exporter": "python",
   "pygments_lexer": "ipython3",
   "version": "3.13.5"
  }
 },
 "nbformat": 4,
 "nbformat_minor": 5
}
