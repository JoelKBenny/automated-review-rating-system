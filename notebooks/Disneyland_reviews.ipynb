{
 "cells": [
  {
   "cell_type": "code",
   "execution_count": 1,
   "id": "5cde840a-eb8a-4857-8649-45baf36b69ad",
   "metadata": {},
   "outputs": [
    {
     "name": "stdout",
     "output_type": "stream",
     "text": [
      "Requirement already satisfied: emoji in c:\\users\\joelk\\anaconda3\\lib\\site-packages (2.15.0)\n"
     ]
    }
   ],
   "source": [
    "!pip install emoji"
   ]
  },
  {
   "cell_type": "markdown",
   "id": "26d77d3b-9a31-4221-8956-395d172dbea2",
   "metadata": {},
   "source": [
    "### Importing Libraries"
   ]
  },
  {
   "cell_type": "code",
   "execution_count": 2,
   "id": "dfb4196a-976e-43df-b6e6-115130005243",
   "metadata": {},
   "outputs": [],
   "source": [
    "import pandas as pd\n",
    "import seaborn as sns\n",
    "import matplotlib.pyplot as plt\n",
    "\n",
    "import re\n",
    "import string\n",
    "import nltk\n",
    "from nltk.corpus import stopwords\n",
    "from nltk.stem import WordNetLemmatizer\n",
    "from bs4 import BeautifulSoup\n",
    "import emoji"
   ]
  },
  {
   "cell_type": "markdown",
   "id": "0e9ca40d-cd4f-4d00-806e-6d802b661d9c",
   "metadata": {},
   "source": [
    "### Loading dataset"
   ]
  },
  {
   "cell_type": "code",
   "execution_count": 3,
   "id": "a085f1e0-9311-4331-87a3-ddbd23d30f05",
   "metadata": {},
   "outputs": [],
   "source": [
    "df = pd.read_csv(\"C:/Users/joelk/automated-review-rating-system/data/Kaggle Datasets/Disneyland_Reviews.csv\", encoding=\"latin1\")"
   ]
  },
  {
   "cell_type": "markdown",
   "id": "85e016a5-03ff-4319-9977-a95b624f0157",
   "metadata": {},
   "source": [
    "### Exploring structure of data"
   ]
  },
  {
   "cell_type": "code",
   "execution_count": 4,
   "id": "e301b438-7c53-420e-ad46-eeb79851bbae",
   "metadata": {},
   "outputs": [
    {
     "data": {
      "text/html": [
       "<div>\n",
       "<style scoped>\n",
       "    .dataframe tbody tr th:only-of-type {\n",
       "        vertical-align: middle;\n",
       "    }\n",
       "\n",
       "    .dataframe tbody tr th {\n",
       "        vertical-align: top;\n",
       "    }\n",
       "\n",
       "    .dataframe thead th {\n",
       "        text-align: right;\n",
       "    }\n",
       "</style>\n",
       "<table border=\"1\" class=\"dataframe\">\n",
       "  <thead>\n",
       "    <tr style=\"text-align: right;\">\n",
       "      <th></th>\n",
       "      <th>Review_ID</th>\n",
       "      <th>Rating</th>\n",
       "      <th>Year_Month</th>\n",
       "      <th>Reviewer_Location</th>\n",
       "      <th>Review_Text</th>\n",
       "      <th>Branch</th>\n",
       "    </tr>\n",
       "  </thead>\n",
       "  <tbody>\n",
       "    <tr>\n",
       "      <th>0</th>\n",
       "      <td>670772142</td>\n",
       "      <td>4</td>\n",
       "      <td>2019-4</td>\n",
       "      <td>Australia</td>\n",
       "      <td>If you've ever been to Disneyland anywhere you...</td>\n",
       "      <td>Disneyland_HongKong</td>\n",
       "    </tr>\n",
       "    <tr>\n",
       "      <th>1</th>\n",
       "      <td>670682799</td>\n",
       "      <td>4</td>\n",
       "      <td>2019-5</td>\n",
       "      <td>Philippines</td>\n",
       "      <td>Its been a while since d last time we visit HK...</td>\n",
       "      <td>Disneyland_HongKong</td>\n",
       "    </tr>\n",
       "    <tr>\n",
       "      <th>2</th>\n",
       "      <td>670623270</td>\n",
       "      <td>4</td>\n",
       "      <td>2019-4</td>\n",
       "      <td>United Arab Emirates</td>\n",
       "      <td>Thanks God it wasn   t too hot or too humid wh...</td>\n",
       "      <td>Disneyland_HongKong</td>\n",
       "    </tr>\n",
       "    <tr>\n",
       "      <th>3</th>\n",
       "      <td>670607911</td>\n",
       "      <td>4</td>\n",
       "      <td>2019-4</td>\n",
       "      <td>Australia</td>\n",
       "      <td>HK Disneyland is a great compact park. Unfortu...</td>\n",
       "      <td>Disneyland_HongKong</td>\n",
       "    </tr>\n",
       "    <tr>\n",
       "      <th>4</th>\n",
       "      <td>670607296</td>\n",
       "      <td>4</td>\n",
       "      <td>2019-4</td>\n",
       "      <td>United Kingdom</td>\n",
       "      <td>the location is not in the city, took around 1...</td>\n",
       "      <td>Disneyland_HongKong</td>\n",
       "    </tr>\n",
       "  </tbody>\n",
       "</table>\n",
       "</div>"
      ],
      "text/plain": [
       "   Review_ID  Rating Year_Month     Reviewer_Location  \\\n",
       "0  670772142       4     2019-4             Australia   \n",
       "1  670682799       4     2019-5           Philippines   \n",
       "2  670623270       4     2019-4  United Arab Emirates   \n",
       "3  670607911       4     2019-4             Australia   \n",
       "4  670607296       4     2019-4        United Kingdom   \n",
       "\n",
       "                                         Review_Text               Branch  \n",
       "0  If you've ever been to Disneyland anywhere you...  Disneyland_HongKong  \n",
       "1  Its been a while since d last time we visit HK...  Disneyland_HongKong  \n",
       "2  Thanks God it wasn   t too hot or too humid wh...  Disneyland_HongKong  \n",
       "3  HK Disneyland is a great compact park. Unfortu...  Disneyland_HongKong  \n",
       "4  the location is not in the city, took around 1...  Disneyland_HongKong  "
      ]
     },
     "execution_count": 4,
     "metadata": {},
     "output_type": "execute_result"
    }
   ],
   "source": [
    "df.head()"
   ]
  },
  {
   "cell_type": "code",
   "execution_count": 5,
   "id": "a3e9a094-63f3-4a7c-8776-e2589fdc2360",
   "metadata": {},
   "outputs": [
    {
     "data": {
      "text/html": [
       "<div>\n",
       "<style scoped>\n",
       "    .dataframe tbody tr th:only-of-type {\n",
       "        vertical-align: middle;\n",
       "    }\n",
       "\n",
       "    .dataframe tbody tr th {\n",
       "        vertical-align: top;\n",
       "    }\n",
       "\n",
       "    .dataframe thead th {\n",
       "        text-align: right;\n",
       "    }\n",
       "</style>\n",
       "<table border=\"1\" class=\"dataframe\">\n",
       "  <thead>\n",
       "    <tr style=\"text-align: right;\">\n",
       "      <th></th>\n",
       "      <th>Review_ID</th>\n",
       "      <th>Rating</th>\n",
       "      <th>Year_Month</th>\n",
       "      <th>Reviewer_Location</th>\n",
       "      <th>Review_Text</th>\n",
       "      <th>Branch</th>\n",
       "    </tr>\n",
       "  </thead>\n",
       "  <tbody>\n",
       "    <tr>\n",
       "      <th>42651</th>\n",
       "      <td>1765031</td>\n",
       "      <td>5</td>\n",
       "      <td>missing</td>\n",
       "      <td>United Kingdom</td>\n",
       "      <td>i went to disneyland paris in july 03 and thou...</td>\n",
       "      <td>Disneyland_Paris</td>\n",
       "    </tr>\n",
       "    <tr>\n",
       "      <th>42652</th>\n",
       "      <td>1659553</td>\n",
       "      <td>5</td>\n",
       "      <td>missing</td>\n",
       "      <td>Canada</td>\n",
       "      <td>2 adults and 1 child of 11 visited Disneyland ...</td>\n",
       "      <td>Disneyland_Paris</td>\n",
       "    </tr>\n",
       "    <tr>\n",
       "      <th>42653</th>\n",
       "      <td>1645894</td>\n",
       "      <td>5</td>\n",
       "      <td>missing</td>\n",
       "      <td>South Africa</td>\n",
       "      <td>My eleven year old daughter and myself went to...</td>\n",
       "      <td>Disneyland_Paris</td>\n",
       "    </tr>\n",
       "    <tr>\n",
       "      <th>42654</th>\n",
       "      <td>1618637</td>\n",
       "      <td>4</td>\n",
       "      <td>missing</td>\n",
       "      <td>United States</td>\n",
       "      <td>This hotel, part of the Disneyland Paris compl...</td>\n",
       "      <td>Disneyland_Paris</td>\n",
       "    </tr>\n",
       "    <tr>\n",
       "      <th>42655</th>\n",
       "      <td>1536786</td>\n",
       "      <td>4</td>\n",
       "      <td>missing</td>\n",
       "      <td>United Kingdom</td>\n",
       "      <td>I went to the Disneyparis resort, in 1996, wit...</td>\n",
       "      <td>Disneyland_Paris</td>\n",
       "    </tr>\n",
       "  </tbody>\n",
       "</table>\n",
       "</div>"
      ],
      "text/plain": [
       "       Review_ID  Rating Year_Month Reviewer_Location  \\\n",
       "42651    1765031       5    missing    United Kingdom   \n",
       "42652    1659553       5    missing            Canada   \n",
       "42653    1645894       5    missing      South Africa   \n",
       "42654    1618637       4    missing     United States   \n",
       "42655    1536786       4    missing    United Kingdom   \n",
       "\n",
       "                                             Review_Text            Branch  \n",
       "42651  i went to disneyland paris in july 03 and thou...  Disneyland_Paris  \n",
       "42652  2 adults and 1 child of 11 visited Disneyland ...  Disneyland_Paris  \n",
       "42653  My eleven year old daughter and myself went to...  Disneyland_Paris  \n",
       "42654  This hotel, part of the Disneyland Paris compl...  Disneyland_Paris  \n",
       "42655  I went to the Disneyparis resort, in 1996, wit...  Disneyland_Paris  "
      ]
     },
     "execution_count": 5,
     "metadata": {},
     "output_type": "execute_result"
    }
   ],
   "source": [
    "df.tail()"
   ]
  },
  {
   "cell_type": "code",
   "execution_count": 6,
   "id": "f1f6f51f-ca87-4066-b211-8b20e362e4fb",
   "metadata": {},
   "outputs": [
    {
     "data": {
      "text/plain": [
       "(42656, 6)"
      ]
     },
     "execution_count": 6,
     "metadata": {},
     "output_type": "execute_result"
    }
   ],
   "source": [
    "df.shape"
   ]
  },
  {
   "cell_type": "code",
   "execution_count": 7,
   "id": "881c89c3-a3a5-43c1-8c4e-85511845b2d0",
   "metadata": {},
   "outputs": [
    {
     "data": {
      "text/plain": [
       "Rating\n",
       "5    23146\n",
       "4    10775\n",
       "3     5109\n",
       "2     2127\n",
       "1     1499\n",
       "Name: count, dtype: int64"
      ]
     },
     "execution_count": 7,
     "metadata": {},
     "output_type": "execute_result"
    }
   ],
   "source": [
    "df['Rating'].value_counts()"
   ]
  },
  {
   "cell_type": "code",
   "execution_count": 8,
   "id": "6a6236df-bf64-4fc9-a6c0-73a6e8a614e5",
   "metadata": {},
   "outputs": [
    {
     "name": "stdout",
     "output_type": "stream",
     "text": [
      "<class 'pandas.core.frame.DataFrame'>\n",
      "RangeIndex: 42656 entries, 0 to 42655\n",
      "Data columns (total 6 columns):\n",
      " #   Column             Non-Null Count  Dtype \n",
      "---  ------             --------------  ----- \n",
      " 0   Review_ID          42656 non-null  int64 \n",
      " 1   Rating             42656 non-null  int64 \n",
      " 2   Year_Month         42656 non-null  object\n",
      " 3   Reviewer_Location  42656 non-null  object\n",
      " 4   Review_Text        42656 non-null  object\n",
      " 5   Branch             42656 non-null  object\n",
      "dtypes: int64(2), object(4)\n",
      "memory usage: 2.0+ MB\n"
     ]
    }
   ],
   "source": [
    "df.info()"
   ]
  },
  {
   "cell_type": "markdown",
   "id": "da317cef-8101-4bd4-b020-2d1f870b5106",
   "metadata": {},
   "source": [
    "#### Dataset contains 42656 sample of reviews with 6 attributes"
   ]
  },
  {
   "cell_type": "code",
   "execution_count": 9,
   "id": "7643a026-f47a-4f60-a774-45fa72b57636",
   "metadata": {},
   "outputs": [
    {
     "data": {
      "text/plain": [
       "Review_ID            0\n",
       "Rating               0\n",
       "Year_Month           0\n",
       "Reviewer_Location    0\n",
       "Review_Text          0\n",
       "Branch               0\n",
       "dtype: int64"
      ]
     },
     "execution_count": 9,
     "metadata": {},
     "output_type": "execute_result"
    }
   ],
   "source": [
    "df.isnull().sum()"
   ]
  },
  {
   "cell_type": "code",
   "execution_count": 10,
   "id": "1b1085c1-af6b-4d33-890d-f03fdd6fc42d",
   "metadata": {},
   "outputs": [
    {
     "data": {
      "text/plain": [
       "np.int64(12)"
      ]
     },
     "execution_count": 10,
     "metadata": {},
     "output_type": "execute_result"
    }
   ],
   "source": [
    "df.duplicated().sum()"
   ]
  },
  {
   "cell_type": "markdown",
   "id": "4f196827-79ea-43d8-b2b0-81f2b6665398",
   "metadata": {},
   "source": [
    "#### There are 12 rows of duplicated samples and no missing values are found."
   ]
  },
  {
   "cell_type": "code",
   "execution_count": 11,
   "id": "26274750-df29-451d-a3d3-1bb4176f4eaf",
   "metadata": {},
   "outputs": [],
   "source": [
    "df = df.drop_duplicates(subset=['Review_Text', 'Rating'])"
   ]
  },
  {
   "cell_type": "code",
   "execution_count": 12,
   "id": "fabd80de-25ce-47bc-aee6-cab4cf92506f",
   "metadata": {},
   "outputs": [
    {
     "data": {
      "text/plain": [
       "(42633, 6)"
      ]
     },
     "execution_count": 12,
     "metadata": {},
     "output_type": "execute_result"
    }
   ],
   "source": [
    "df.shape"
   ]
  },
  {
   "cell_type": "code",
   "execution_count": 13,
   "id": "e2956a64-4e96-41dd-b3c4-cb658ece8d8d",
   "metadata": {},
   "outputs": [
    {
     "name": "stdout",
     "output_type": "stream",
     "text": [
      "Number of reviews with conflicting ratings: 1\n"
     ]
    }
   ],
   "source": [
    "conflicts = df.groupby('Review_Text')['Rating'].nunique()\n",
    "conflicting_reviews = conflicts[conflicts > 1].index\n",
    "print(\"Number of reviews with conflicting ratings:\", len(conflicting_reviews))"
   ]
  },
  {
   "cell_type": "code",
   "execution_count": 14,
   "id": "da0ddd71-83a9-4c09-91e8-3eee6607d626",
   "metadata": {},
   "outputs": [],
   "source": [
    "df = df[~df['Review_Text'].isin(conflicting_reviews)]"
   ]
  },
  {
   "cell_type": "code",
   "execution_count": 15,
   "id": "4281db08-e76f-451c-a6cb-b9e84aa887f7",
   "metadata": {},
   "outputs": [
    {
     "data": {
      "text/plain": [
       "(42631, 6)"
      ]
     },
     "execution_count": 15,
     "metadata": {},
     "output_type": "execute_result"
    }
   ],
   "source": [
    "df.shape"
   ]
  },
  {
   "cell_type": "code",
   "execution_count": 16,
   "id": "090243e4-cb89-4201-9023-c2cf1aece4a6",
   "metadata": {},
   "outputs": [
    {
     "data": {
      "text/plain": [
       "array(['Disneyland_HongKong', 'Disneyland_California', 'Disneyland_Paris'],\n",
       "      dtype=object)"
      ]
     },
     "execution_count": 16,
     "metadata": {},
     "output_type": "execute_result"
    }
   ],
   "source": [
    "df['Branch'].unique()"
   ]
  },
  {
   "cell_type": "markdown",
   "id": "15f060f8-2c1e-41f4-85f0-b637f4f7034c",
   "metadata": {},
   "source": [
    "### Removing unnecessary columns"
   ]
  },
  {
   "cell_type": "code",
   "execution_count": 17,
   "id": "64975c79-369a-4e6b-9ea7-3661be5a0918",
   "metadata": {},
   "outputs": [],
   "source": [
    "df = df.drop('Review_ID', axis=1)"
   ]
  },
  {
   "cell_type": "code",
   "execution_count": 18,
   "id": "e0b37f35-6eaf-47fd-a8b4-1787089c18d5",
   "metadata": {},
   "outputs": [],
   "source": [
    "df = df.drop('Reviewer_Location', axis=1)"
   ]
  },
  {
   "cell_type": "code",
   "execution_count": 19,
   "id": "6150db5b-5eeb-4319-809d-fb71101ed9c0",
   "metadata": {},
   "outputs": [],
   "source": [
    "df = df.drop('Branch', axis=1)"
   ]
  },
  {
   "cell_type": "code",
   "execution_count": 20,
   "id": "1a713c4a-addd-4a4c-aedf-15a89874c91e",
   "metadata": {},
   "outputs": [],
   "source": [
    "df = df.drop('Year_Month', axis=1)"
   ]
  },
  {
   "cell_type": "markdown",
   "id": "94d33a2e-4f4f-4c91-93f9-f4e8e6d53cb8",
   "metadata": {},
   "source": [
    "### Normalizing the text in Review_Text"
   ]
  },
  {
   "cell_type": "code",
   "execution_count": 21,
   "id": "9d0fec57-e1a6-4ba2-a78b-f1f21b0533ad",
   "metadata": {},
   "outputs": [],
   "source": [
    "# Set to collect unique stopwords found in dataset\n",
    "unique_stopwords_found = set()\n",
    "\n",
    "stop_words = set(stopwords.words('english'))\n",
    "lemmatizer = WordNetLemmatizer()\n",
    "\n",
    "def normalize_review(text):\n",
    "    global unique_stopwords_found\n",
    "    \n",
    "    if not isinstance(text, str):\n",
    "        return None\n",
    "\n",
    "    # Converting all reviews into lowercase\n",
    "    text = text.lower()\n",
    "\n",
    "    # Removing HTML tags\n",
    "    text = BeautifulSoup(text, \"html.parser\").get_text()\n",
    "\n",
    "    # Removing URLs\n",
    "    text = re.sub(r\"http\\S+|www\\S+|https\\S+\", \"\", text)\n",
    "\n",
    "    # Removing punctuation and special characters\n",
    "    text = text.translate(str.maketrans(\"\", \"\", string.punctuation))\n",
    "\n",
    "    # Removing emojis\n",
    "    text = text.encode(\"ascii\", \"ignore\").decode(\"ascii\")\n",
    "\n",
    "    # Tokenizing the reviews\n",
    "    tokens = text.split()\n",
    "\n",
    "    # Track stopwords present in this review\n",
    "    review_stopwords = set([word for word in tokens if word in stop_words])\n",
    "    unique_stopwords_found.update(review_stopwords)\n",
    "\n",
    "    # Removing stopwords\n",
    "    tokens = [word for word in tokens if word not in stop_words]\n",
    "\n",
    "    # Lemmatization\n",
    "    tokens = [lemmatizer.lemmatize(word) for word in tokens]\n",
    "\n",
    "    # Filtering too short or too long reviews\n",
    "    if len(tokens) < 3 or len(tokens) > 100:\n",
    "        return None\n",
    "\n",
    "    return \" \".join(tokens)\n"
   ]
  },
  {
   "cell_type": "code",
   "execution_count": 22,
   "id": "d64fa7e5-8373-4757-817e-c58305e5ac0c",
   "metadata": {},
   "outputs": [],
   "source": [
    "df['cleaned_review'] = df['Review_Text'].apply(normalize_review)"
   ]
  },
  {
   "cell_type": "code",
   "execution_count": 23,
   "id": "c4b07a33-6f6e-46ce-803d-d4a480562fd0",
   "metadata": {},
   "outputs": [
    {
     "name": "stdout",
     "output_type": "stream",
     "text": [
      "Total unique stopwords in dataset: 151\n",
      "Unique stopwords in dataset:\n",
      " {'are', 'that', 'won', 'other', 'than', 'he', 'itself', 'who', 'how', 'was', 'should', 'so', 'up', 'under', 'these', 'after', 'does', 'when', 'hasn', 'off', 'doing', 'most', 'no', 'for', 'here', 'between', 'against', 'what', 'shouldn', 'were', 'this', 'aren', 'having', 'by', 'where', 'as', 'few', 'too', 'same', 'then', 'through', 'from', 'm', 'each', 'll', 'myself', 'ourselves', 'my', 'your', 'needn', 'i', 'them', 'such', 'd', 'wouldn', 'ma', 'hers', 'our', 'if', 'yourselves', 'just', 'the', 'we', 'herself', 'has', 'am', 'hadn', 'yours', 'whom', 'is', 're', 'yourself', 'been', 'you', 'can', 'both', 'doesn', 'ours', 'his', 'it', 'me', 't', 'ain', 'which', 'over', 'do', 'because', 'into', 'wasn', 'why', 'their', 'until', 'out', 'themselves', 'did', 'her', 'nor', 'before', 'they', 'above', 'himself', 'further', 'more', 'with', 'all', 'some', 'being', 'now', 'haven', 'isn', 'she', 'those', 's', 'at', 'but', 'don', 'didn', 'while', 'below', 'during', 'its', 'him', 'be', 'an', 'couldn', 'about', 'there', 'own', 'very', 'shan', 'in', 've', 'any', 'o', 'had', 'only', 'weren', 'on', 'again', 'once', 'y', 'or', 'not', 'to', 'a', 'will', 'theirs', 'have', 'of', 'and', 'down'}\n"
     ]
    }
   ],
   "source": [
    "# 1. Total number of unique stopwords found in dataset\n",
    "print(\"Total unique stopwords in dataset:\", len(unique_stopwords_found))\n",
    "\n",
    "# 2. Print all unique stopwords found in dataset\n",
    "print(\"Unique stopwords in dataset:\\n\", unique_stopwords_found)\n"
   ]
  },
  {
   "cell_type": "code",
   "execution_count": 24,
   "id": "237d3dee-5854-4c33-ad57-bbc7968a0f81",
   "metadata": {},
   "outputs": [],
   "source": [
    "df = df.dropna(subset=['cleaned_review'])"
   ]
  },
  {
   "cell_type": "code",
   "execution_count": 25,
   "id": "b7e95919-1d15-4b21-8193-cf8d18a51713",
   "metadata": {},
   "outputs": [
    {
     "data": {
      "text/html": [
       "<div>\n",
       "<style scoped>\n",
       "    .dataframe tbody tr th:only-of-type {\n",
       "        vertical-align: middle;\n",
       "    }\n",
       "\n",
       "    .dataframe tbody tr th {\n",
       "        vertical-align: top;\n",
       "    }\n",
       "\n",
       "    .dataframe thead th {\n",
       "        text-align: right;\n",
       "    }\n",
       "</style>\n",
       "<table border=\"1\" class=\"dataframe\">\n",
       "  <thead>\n",
       "    <tr style=\"text-align: right;\">\n",
       "      <th></th>\n",
       "      <th>Rating</th>\n",
       "      <th>Review_Text</th>\n",
       "      <th>cleaned_review</th>\n",
       "    </tr>\n",
       "  </thead>\n",
       "  <tbody>\n",
       "    <tr>\n",
       "      <th>0</th>\n",
       "      <td>4</td>\n",
       "      <td>If you've ever been to Disneyland anywhere you...</td>\n",
       "      <td>youve ever disneyland anywhere youll find disn...</td>\n",
       "    </tr>\n",
       "    <tr>\n",
       "      <th>2</th>\n",
       "      <td>4</td>\n",
       "      <td>Thanks God it wasn   t too hot or too humid wh...</td>\n",
       "      <td>thanks god hot humid visiting park otherwise w...</td>\n",
       "    </tr>\n",
       "    <tr>\n",
       "      <th>3</th>\n",
       "      <td>4</td>\n",
       "      <td>HK Disneyland is a great compact park. Unfortu...</td>\n",
       "      <td>hk disneyland great compact park unfortunately...</td>\n",
       "    </tr>\n",
       "    <tr>\n",
       "      <th>4</th>\n",
       "      <td>4</td>\n",
       "      <td>the location is not in the city, took around 1...</td>\n",
       "      <td>location city took around 1 hour kowlon kid li...</td>\n",
       "    </tr>\n",
       "    <tr>\n",
       "      <th>5</th>\n",
       "      <td>3</td>\n",
       "      <td>Have been to Disney World, Disneyland Anaheim ...</td>\n",
       "      <td>disney world disneyland anaheim tokyo disneyla...</td>\n",
       "    </tr>\n",
       "    <tr>\n",
       "      <th>...</th>\n",
       "      <td>...</td>\n",
       "      <td>...</td>\n",
       "      <td>...</td>\n",
       "    </tr>\n",
       "    <tr>\n",
       "      <th>42651</th>\n",
       "      <td>5</td>\n",
       "      <td>i went to disneyland paris in july 03 and thou...</td>\n",
       "      <td>went disneyland paris july 03 thought brillian...</td>\n",
       "    </tr>\n",
       "    <tr>\n",
       "      <th>42652</th>\n",
       "      <td>5</td>\n",
       "      <td>2 adults and 1 child of 11 visited Disneyland ...</td>\n",
       "      <td>2 adult 1 child 11 visited disneyland paris be...</td>\n",
       "    </tr>\n",
       "    <tr>\n",
       "      <th>42653</th>\n",
       "      <td>5</td>\n",
       "      <td>My eleven year old daughter and myself went to...</td>\n",
       "      <td>eleven year old daughter went visit son london...</td>\n",
       "    </tr>\n",
       "    <tr>\n",
       "      <th>42654</th>\n",
       "      <td>4</td>\n",
       "      <td>This hotel, part of the Disneyland Paris compl...</td>\n",
       "      <td>hotel part disneyland paris complex wonderful ...</td>\n",
       "    </tr>\n",
       "    <tr>\n",
       "      <th>42655</th>\n",
       "      <td>4</td>\n",
       "      <td>I went to the Disneyparis resort, in 1996, wit...</td>\n",
       "      <td>went disneyparis resort 1996 small child minut...</td>\n",
       "    </tr>\n",
       "  </tbody>\n",
       "</table>\n",
       "<p>34987 rows × 3 columns</p>\n",
       "</div>"
      ],
      "text/plain": [
       "       Rating                                        Review_Text  \\\n",
       "0           4  If you've ever been to Disneyland anywhere you...   \n",
       "2           4  Thanks God it wasn   t too hot or too humid wh...   \n",
       "3           4  HK Disneyland is a great compact park. Unfortu...   \n",
       "4           4  the location is not in the city, took around 1...   \n",
       "5           3  Have been to Disney World, Disneyland Anaheim ...   \n",
       "...       ...                                                ...   \n",
       "42651       5  i went to disneyland paris in july 03 and thou...   \n",
       "42652       5  2 adults and 1 child of 11 visited Disneyland ...   \n",
       "42653       5  My eleven year old daughter and myself went to...   \n",
       "42654       4  This hotel, part of the Disneyland Paris compl...   \n",
       "42655       4  I went to the Disneyparis resort, in 1996, wit...   \n",
       "\n",
       "                                          cleaned_review  \n",
       "0      youve ever disneyland anywhere youll find disn...  \n",
       "2      thanks god hot humid visiting park otherwise w...  \n",
       "3      hk disneyland great compact park unfortunately...  \n",
       "4      location city took around 1 hour kowlon kid li...  \n",
       "5      disney world disneyland anaheim tokyo disneyla...  \n",
       "...                                                  ...  \n",
       "42651  went disneyland paris july 03 thought brillian...  \n",
       "42652  2 adult 1 child 11 visited disneyland paris be...  \n",
       "42653  eleven year old daughter went visit son london...  \n",
       "42654  hotel part disneyland paris complex wonderful ...  \n",
       "42655  went disneyparis resort 1996 small child minut...  \n",
       "\n",
       "[34987 rows x 3 columns]"
      ]
     },
     "execution_count": 25,
     "metadata": {},
     "output_type": "execute_result"
    }
   ],
   "source": [
    "df"
   ]
  },
  {
   "cell_type": "code",
   "execution_count": 26,
   "id": "4d1d9870-5d1a-413e-92ac-536fb5e32f5a",
   "metadata": {},
   "outputs": [
    {
     "data": {
      "text/plain": [
       "(34987, 3)"
      ]
     },
     "execution_count": 26,
     "metadata": {},
     "output_type": "execute_result"
    }
   ],
   "source": [
    "df.shape"
   ]
  },
  {
   "cell_type": "code",
   "execution_count": 27,
   "id": "a701e5cb-6dd2-4e54-a132-f3152981ccf5",
   "metadata": {},
   "outputs": [],
   "source": [
    "df = df.drop('Review_Text', axis=1)"
   ]
  },
  {
   "cell_type": "markdown",
   "id": "950c31c0-1859-4b47-b58d-a798b0b2fced",
   "metadata": {},
   "source": [
    "### Visualization"
   ]
  },
  {
   "cell_type": "code",
   "execution_count": 28,
   "id": "98f88f52-44b6-46b5-a41c-e637832200fd",
   "metadata": {},
   "outputs": [
    {
     "name": "stderr",
     "output_type": "stream",
     "text": [
      "C:\\Users\\joelk\\AppData\\Local\\Temp\\ipykernel_8216\\3511575154.py:2: FutureWarning: \n",
      "\n",
      "Passing `palette` without assigning `hue` is deprecated and will be removed in v0.14.0. Assign the `x` variable to `hue` and set `legend=False` for the same effect.\n",
      "\n",
      "  sns.countplot(x='Rating', data=df, palette='viridis', order=sorted(df['Rating'].unique()))\n"
     ]
    },
    {
     "data": {
      "image/png": "[encoded data removed]",
      "text/plain": [
       "<Figure size 500x400 with 1 Axes>"
      ]
     },
     "metadata": {},
     "output_type": "display_data"
    }
   ],
   "source": [
    "plt.figure(figsize=(5,4))\n",
    "sns.countplot(x='Rating', data=df, palette='viridis', order=sorted(df['Rating'].unique()))\n",
    "plt.title(\"Rating Distribution\", fontsize=16, pad=20)\n",
    "plt.xlabel(\"Rating\", fontsize=12)\n",
    "plt.ylabel(\"Number of Reviews\", fontsize=12)\n",
    "plt.show()"
   ]
  },
  {
   "cell_type": "code",
   "execution_count": 29,
   "id": "0d8b5e62-ec76-40a6-9625-77f77d9d8b3e",
   "metadata": {},
   "outputs": [],
   "source": [
    "df['word_count'] = df['cleaned_review'].apply(lambda x: len(x.split()))"
   ]
  },
  {
   "cell_type": "code",
   "execution_count": 30,
   "id": "6d84d66e-df24-47c2-ad87-cb3f8df1a889",
   "metadata": {},
   "outputs": [
    {
     "data": {
      "text/html": [
       "<div>\n",
       "<style scoped>\n",
       "    .dataframe tbody tr th:only-of-type {\n",
       "        vertical-align: middle;\n",
       "    }\n",
       "\n",
       "    .dataframe tbody tr th {\n",
       "        vertical-align: top;\n",
       "    }\n",
       "\n",
       "    .dataframe thead th {\n",
       "        text-align: right;\n",
       "    }\n",
       "</style>\n",
       "<table border=\"1\" class=\"dataframe\">\n",
       "  <thead>\n",
       "    <tr style=\"text-align: right;\">\n",
       "      <th></th>\n",
       "      <th>Rating</th>\n",
       "      <th>cleaned_review</th>\n",
       "      <th>word_count</th>\n",
       "    </tr>\n",
       "  </thead>\n",
       "  <tbody>\n",
       "    <tr>\n",
       "      <th>0</th>\n",
       "      <td>4</td>\n",
       "      <td>youve ever disneyland anywhere youll find disn...</td>\n",
       "      <td>33</td>\n",
       "    </tr>\n",
       "    <tr>\n",
       "      <th>2</th>\n",
       "      <td>4</td>\n",
       "      <td>thanks god hot humid visiting park otherwise w...</td>\n",
       "      <td>82</td>\n",
       "    </tr>\n",
       "    <tr>\n",
       "      <th>3</th>\n",
       "      <td>4</td>\n",
       "      <td>hk disneyland great compact park unfortunately...</td>\n",
       "      <td>46</td>\n",
       "    </tr>\n",
       "    <tr>\n",
       "      <th>4</th>\n",
       "      <td>4</td>\n",
       "      <td>location city took around 1 hour kowlon kid li...</td>\n",
       "      <td>18</td>\n",
       "    </tr>\n",
       "    <tr>\n",
       "      <th>5</th>\n",
       "      <td>3</td>\n",
       "      <td>disney world disneyland anaheim tokyo disneyla...</td>\n",
       "      <td>87</td>\n",
       "    </tr>\n",
       "    <tr>\n",
       "      <th>...</th>\n",
       "      <td>...</td>\n",
       "      <td>...</td>\n",
       "      <td>...</td>\n",
       "    </tr>\n",
       "    <tr>\n",
       "      <th>42651</th>\n",
       "      <td>5</td>\n",
       "      <td>went disneyland paris july 03 thought brillian...</td>\n",
       "      <td>84</td>\n",
       "    </tr>\n",
       "    <tr>\n",
       "      <th>42652</th>\n",
       "      <td>5</td>\n",
       "      <td>2 adult 1 child 11 visited disneyland paris be...</td>\n",
       "      <td>94</td>\n",
       "    </tr>\n",
       "    <tr>\n",
       "      <th>42653</th>\n",
       "      <td>5</td>\n",
       "      <td>eleven year old daughter went visit son london...</td>\n",
       "      <td>54</td>\n",
       "    </tr>\n",
       "    <tr>\n",
       "      <th>42654</th>\n",
       "      <td>4</td>\n",
       "      <td>hotel part disneyland paris complex wonderful ...</td>\n",
       "      <td>62</td>\n",
       "    </tr>\n",
       "    <tr>\n",
       "      <th>42655</th>\n",
       "      <td>4</td>\n",
       "      <td>went disneyparis resort 1996 small child minut...</td>\n",
       "      <td>100</td>\n",
       "    </tr>\n",
       "  </tbody>\n",
       "</table>\n",
       "<p>34987 rows × 3 columns</p>\n",
       "</div>"
      ],
      "text/plain": [
       "       Rating                                     cleaned_review  word_count\n",
       "0           4  youve ever disneyland anywhere youll find disn...          33\n",
       "2           4  thanks god hot humid visiting park otherwise w...          82\n",
       "3           4  hk disneyland great compact park unfortunately...          46\n",
       "4           4  location city took around 1 hour kowlon kid li...          18\n",
       "5           3  disney world disneyland anaheim tokyo disneyla...          87\n",
       "...       ...                                                ...         ...\n",
       "42651       5  went disneyland paris july 03 thought brillian...          84\n",
       "42652       5  2 adult 1 child 11 visited disneyland paris be...          94\n",
       "42653       5  eleven year old daughter went visit son london...          54\n",
       "42654       4  hotel part disneyland paris complex wonderful ...          62\n",
       "42655       4  went disneyparis resort 1996 small child minut...         100\n",
       "\n",
       "[34987 rows x 3 columns]"
      ]
     },
     "execution_count": 30,
     "metadata": {},
     "output_type": "execute_result"
    }
   ],
   "source": [
    "df"
   ]
  },
  {
   "cell_type": "code",
   "execution_count": 31,
   "id": "146976d7-8fc3-4c46-9fec-80ee2b189e5c",
   "metadata": {},
   "outputs": [
    {
     "data": {
      "text/plain": [
       "count    34987.000000\n",
       "mean        39.876040\n",
       "std         23.706727\n",
       "min          3.000000\n",
       "25%         21.000000\n",
       "50%         34.000000\n",
       "75%         55.000000\n",
       "max        100.000000\n",
       "Name: word_count, dtype: float64"
      ]
     },
     "execution_count": 31,
     "metadata": {},
     "output_type": "execute_result"
    }
   ],
   "source": [
    "df['word_count'].describe()"
   ]
  },
  {
   "cell_type": "code",
   "execution_count": 32,
   "id": "6168afd5-50f7-43b3-8097-05f9d78ea3d0",
   "metadata": {},
   "outputs": [
    {
     "name": "stderr",
     "output_type": "stream",
     "text": [
      "C:\\Users\\joelk\\AppData\\Local\\Temp\\ipykernel_8216\\350105827.py:2: FutureWarning: \n",
      "\n",
      "Passing `palette` without assigning `hue` is deprecated and will be removed in v0.14.0. Assign the `x` variable to `hue` and set `legend=False` for the same effect.\n",
      "\n",
      "  sns.boxplot(data=df, x=\"Rating\", y=\"word_count\", palette=\"viridis\")\n"
     ]
    },
    {
     "data": {
      "image/png": "[encoded data removed]",
      "text/plain": [
       "<Figure size 700x400 with 1 Axes>"
      ]
     },
     "metadata": {},
     "output_type": "display_data"
    }
   ],
   "source": [
    "plt.figure(figsize=(7,4))\n",
    "sns.boxplot(data=df, x=\"Rating\", y=\"word_count\", palette=\"viridis\")\n",
    "plt.title(\"Boxplot of Word Counts by Rating\", fontsize=16, pad=20)\n",
    "plt.xlabel(\"Rating\")\n",
    "plt.ylabel(\"Number of Words\")\n",
    "plt.show()"
   ]
  },
  {
   "cell_type": "code",
   "execution_count": 33,
   "id": "6faf4b27-9384-49bf-83cb-5c2fccc4039c",
   "metadata": {},
   "outputs": [
    {
     "data": {
      "image/png": "[encoded data removed]",
      "text/plain": [
       "<Figure size 700x400 with 1 Axes>"
      ]
     },
     "metadata": {},
     "output_type": "display_data"
    }
   ],
   "source": [
    "plt.figure(figsize=(7,4))\n",
    "sns.histplot(data=df, x=\"word_count\", hue=\"Rating\", bins=30, multiple=\"stack\", palette=\"viridis\")\n",
    "plt.title(\"Histogram of Word Counts by Rating\", fontsize=16, pad=20)\n",
    "plt.xlabel(\"Number of Words\")\n",
    "plt.ylabel(\"Count of Reviews\")\n",
    "plt.show()"
   ]
  },
  {
   "cell_type": "markdown",
   "id": "ba3a8bde-e74d-4e3d-9293-b6103b5c8159",
   "metadata": {},
   "source": [
    "#### Displaying several reviews of each rating"
   ]
  },
  {
   "cell_type": "code",
   "execution_count": 34,
   "id": "c8ac9704-a4b2-4781-ab15-cf10cbccb7a5",
   "metadata": {},
   "outputs": [
    {
     "name": "stdout",
     "output_type": "stream",
     "text": [
      "\n",
      "======================= Rating: 1 =======================\n",
      "\n",
      "1. partner recently stayed teacher school trip spoke highly service attraction whilst stay bought mikey minnie photo frame gift bring home though got home discovered shocking quality product material peeling back stand paint work look like done toddler crayon general quality product disgracefuli would advise future review quality product sale resort shop avoid disappointment shabby photo frame ruined supposed romantic gesture well done disney\n",
      "\n",
      "2. visiting disneyland world around globe feel qualified write review particular oneit definitely worst longest line ever seen ride open many staff member around lot people problem using fastpass machine one sight help happened one occasioni definitely agree another review saw visitor park bad queue etiquette pushing back pushing standing way close argh yes smokingdisneyland tokyo far best disneyland go one make oneif come paris dont waste day 6 hour park got 1 ride theatre showstand line louvre eiffel tower much better reward\n",
      "\n",
      "3. ridiculus wait 30 minute queu ride 1 minute would prefer come tivoli much better nicer place recommended people enjoying waiting utku\n",
      "\n",
      "4. price found park ride disappointing travelled feb 12 half term queue long several ride closed due technical fault buzz light year small world etc food within park astronomically priced 3 euro tiny bag chip\n",
      "\n",
      "5. whole place feel like homage 1990s parade basic ride broke frequently already shut refurbs waited 35 minute allegedly fastpass queue allowing people regardless timing join big thunder mountain big ride day open disney studio better tiny ride dont fast pass waited 2 hour watch ride break front u restaurant either shut full fried food mickey cafe basic food booking queued 30 minute valentine waitress rude forgot thing mixed order completely hotel santa fe basic queue breakfast one pay attention time slot best thing planet hollywood thats saying something whole place need investment magic putting back\n",
      "\n",
      "\n",
      "======================= Rating: 2 =======================\n",
      "\n",
      "1. park small great ride closed limited number ride biggest thing missing park friendly staff missing expected disney smile courtesy ride operator folk restaurant recommended big fan happiest place earth way functioning u disney park take literally\n",
      "\n",
      "2. disney happy ever afters smile magic laughternot disneyland parisstaff ignorant rude havent clue smile visited park two day queue would expect long fast pas joke queue fast pas ticket queue ride didnt bother end queued anyway food ok bit expensive rest paris areano character walking round parade good short missing something disney magic like visited disney florida dont go paris comparison disappointed\n",
      "\n",
      "3. disneyland favorite vacation way busy october friend trip said busier summer visit lot ride closed temporary repair waited line 1 hr frustrating\n",
      "\n",
      "4. cafe orleans nice lobster salad gone choice getting worselets review dining death actually good disney like spend money good foodlobster saladcafe orleansfrito misto alfresco terracecinnomon rollsdisneyland bakerycinnomon roll french toastcarnation cafemahi mahi fish tacostangaroa terrace cheap small shrimp tacosnice breakfastriver belle terrace expensive mediocre restarauntshort rib sandwhich carthay circlechili fry sour creamsmokejumpers grillblt flatbreadnow red rose tavernefried green tomatoeshungry bear get 5x price bbim sick disneyland taking away good thing replacing obviously cheaper dining option want u spend dollar park improve dining\n",
      "\n",
      "5. large party 8x adult 6x child travelled disneyland paris 26th december 2015 spent two day theme park purchased ticket ahead time uk cost 95 per person ismore\n",
      "\n",
      "\n",
      "======================= Rating: 3 =======================\n",
      "\n",
      "1. 4 lovely day park october seems great time go quite quiet line werent long especially week big complaint staff never seen many bored disinterested staff meant happiest place earth smile eh daughter didnt care notice anoyed u alot perhaps disney start customer service training quick\n",
      "\n",
      "2. sure disney label totally lack florida magicmore like amusement parkpossibly expensive outlet ever experienced 1 plain hotdog 1 cheese hotdog 1 chicken nugget 2 large fry 1 white coffee 1 sprite 25\n",
      "\n",
      "3. gate price seem keep going cant really afford go every couple year park always crowded line take forever even charge fast pas lane thought used free anyway still happiest place earth except raining pay 20 poncho really come\n",
      "\n",
      "4. disney expected crowded overpriced use fastpass whenever possible dont eat park food awful overpriced found tortilla joes taqueria downtown disney huge burrito shared two people kid loved placeand better cheaper eating park\n",
      "\n",
      "5. ride old tired couldnt believe theyre still showing michael jackson captain eo unfortunately get away long kid still want go disney place earth disappointing child 9 charged adult fare\n",
      "\n",
      "\n",
      "======================= Rating: 4 =======================\n",
      "\n",
      "1. always good time disneyland even hiccup year 25 hour wait ride hot sun shaded queue perhaps consider water ice cream stand line super popular ride california adventure side wasnt happy ride closure breakdown though\n",
      "\n",
      "2. ive disney hongkong californiathey fantastic beautiful scenery show still kind similar disney world except one orlando orlando biggest one world\n",
      "\n",
      "3. husband medical emergency first day park staff fantastic u ambulance time unfortunately cut stay short didnt get experience park\n",
      "\n",
      "4. didnt stay resort went day 4 day honeymoon paris parisvisite travel pas get 20 entrance fee 1 day 2 park pas cost u 50 euro get went pretty much ride excluding little kid stuff space mountain best went 3 time tower terror also good buzz lightyear good fun even 28 year old avoided eating taking baguette u glad menu park looked expensive half good little parisian restaurant train centre paris take 40 min literally take front doorhave disney florida couple time far better still good fun\n",
      "\n",
      "5. enjoyed experience disneyland hong kong found catered 5 year old teenager seems suited younger child rather eurodisney found better older kid adult definitely worth checking day spare havent disneyland firework park close lovely packed id suggest want buy thing store earlier day crowded crazy end\n",
      "\n",
      "\n",
      "======================= Rating: 5 =======================\n",
      "\n",
      "1. great ever really enjoyable age sure extra magic hour worthwhile nothing much open early still great day two three\n",
      "\n",
      "2. lucky enough come los angeles family holiday disneyland focus dad keen queueing crowd noise imagine excited rest family disneyland awesome great time year cast member call ghost town kiwi found food good price used high priced food back home crowd fine really buy fast past far best money spent cast member staff standing place spotless watched rubbish would ground matter minute pick went four day two disneyland two disney adventure great felt saw offer age kids1110 8if come hope much fun didcheerskiwi los angeles\n",
      "\n",
      "3. long line expensive kid love place along adult act like kid fun whole family\n",
      "\n",
      "4. still nice classic park third visit although first 9 year materhorn updated better set special effect inside space mountain smoothest way best side side seating indiana jones ride unique closest thing disney dinosaur animal kingdom florida one best thing electric light parade brought back year classic original form found fun nostalgic even 19 year old son thought great doesnt really connection wife aladins oasis lunch tie gave u priority viewing near small world thought worth\n",
      "\n",
      "5. one spend 2 3 day see allthe best avoid kid holiday day weekend holiday possablei found sign direction park poor even holding map ask directionsthere enough personal walk around assist peoplethe line long express line help enoughin overall great intertaiment\n",
      "\n"
     ]
    }
   ],
   "source": [
    "for rating in sorted(df[\"Rating\"].unique()):\n",
    "    print(f\"\\n======================= Rating: {rating} =======================\\n\")\n",
    "    sample_reviews = df[df[\"Rating\"] == rating][\"cleaned_review\"].sample(n=5, random_state=42)  \n",
    "    for i, review in enumerate(sample_reviews, 1):\n",
    "        print(f\"{i}. {review}\\n\")"
   ]
  },
  {
   "cell_type": "code",
   "execution_count": 35,
   "id": "e873eaf9-544e-420c-a402-81edebe5d524",
   "metadata": {},
   "outputs": [
    {
     "data": {
      "text/plain": [
       "Rating\n",
       "5    20045\n",
       "4     8673\n",
       "3     3873\n",
       "2     1432\n",
       "1      964\n",
       "Name: count, dtype: int64"
      ]
     },
     "execution_count": 35,
     "metadata": {},
     "output_type": "execute_result"
    }
   ],
   "source": [
    "df['Rating'].value_counts()"
   ]
  },
  {
   "cell_type": "markdown",
   "id": "932d8e69-b0c6-4930-a49d-396cb6d4f448",
   "metadata": {},
   "source": [
    "### Creating balanced dataset "
   ]
  },
  {
   "cell_type": "code",
   "execution_count": 36,
   "id": "5212bbc5-d46d-421b-824c-70a3ce145a6b",
   "metadata": {},
   "outputs": [],
   "source": [
    "from sklearn.utils import resample\n",
    "\n",
    "n_samples = 2000  # desired number per class\n",
    "\n",
    "balanced_df = pd.DataFrame()\n",
    "\n",
    "for rating in df['Rating'].unique():\n",
    "    df_rating = df[df['Rating'] == rating]\n",
    "    \n",
    "    if len(df_rating) < n_samples:\n",
    "        # Oversample with replacement for small classes\n",
    "        df_resampled = resample(df_rating,\n",
    "                                replace=True,\n",
    "                                n_samples=n_samples,\n",
    "                                random_state=42)\n",
    "    else:\n",
    "        # Downsample without replacement for large classes\n",
    "        df_resampled = resample(df_rating,\n",
    "                                replace=False,\n",
    "                                n_samples=n_samples,\n",
    "                                random_state=42)\n",
    "    \n",
    "    balanced_df = pd.concat([balanced_df, df_resampled])\n",
    "\n",
    "# Shuffling the final dataset\n",
    "balanced_df = balanced_df.sample(frac=1, random_state=42).reset_index(drop=True)\n"
   ]
  },
  {
   "cell_type": "code",
   "execution_count": 37,
   "id": "47d9d5e7-cd0a-4abe-a52b-8834488c5d04",
   "metadata": {},
   "outputs": [
    {
     "data": {
      "text/plain": [
       "(10000, 3)"
      ]
     },
     "execution_count": 37,
     "metadata": {},
     "output_type": "execute_result"
    }
   ],
   "source": [
    "balanced_df.shape"
   ]
  },
  {
   "cell_type": "code",
   "execution_count": 38,
   "id": "6219c6c1-bfef-49e4-97b3-a1cc73aa74d6",
   "metadata": {},
   "outputs": [
    {
     "data": {
      "text/plain": [
       "Rating\n",
       "1    2000\n",
       "2    2000\n",
       "3    2000\n",
       "4    2000\n",
       "5    2000\n",
       "Name: count, dtype: int64"
      ]
     },
     "execution_count": 38,
     "metadata": {},
     "output_type": "execute_result"
    }
   ],
   "source": [
    "balanced_df['Rating'].value_counts().sort_index()"
   ]
  },
  {
   "cell_type": "code",
   "execution_count": 39,
   "id": "ca98e715-ed27-41bb-a0da-88f906ee8234",
   "metadata": {},
   "outputs": [
    {
     "name": "stderr",
     "output_type": "stream",
     "text": [
      "C:\\Users\\joelk\\AppData\\Local\\Temp\\ipykernel_8216\\2154460271.py:2: FutureWarning: \n",
      "\n",
      "Passing `palette` without assigning `hue` is deprecated and will be removed in v0.14.0. Assign the `x` variable to `hue` and set `legend=False` for the same effect.\n",
      "\n",
      "  sns.countplot(x='Rating', data=balanced_df, palette='viridis', order=sorted(df['Rating'].unique()))\n"
     ]
    },
    {
     "data": {
      "image/png": "[encoded data removed]",
      "text/plain": [
       "<Figure size 500x400 with 1 Axes>"
      ]
     },
     "metadata": {},
     "output_type": "display_data"
    }
   ],
   "source": [
    "plt.figure(figsize=(5,4))\n",
    "sns.countplot(x='Rating', data=balanced_df, palette='viridis', order=sorted(df['Rating'].unique()))\n",
    "plt.title(\"Rating Distribution after balancing\", fontsize=16, pad=20)\n",
    "plt.xlabel(\"Rating\", fontsize=12)\n",
    "plt.ylabel(\"Number of Reviews\", fontsize=12)\n",
    "plt.show()"
   ]
  },
  {
   "cell_type": "code",
   "execution_count": 40,
   "id": "857e0b42-f383-408f-b70b-c7765f914e22",
   "metadata": {},
   "outputs": [
    {
     "data": {
      "text/html": [
       "<div>\n",
       "<style scoped>\n",
       "    .dataframe tbody tr th:only-of-type {\n",
       "        vertical-align: middle;\n",
       "    }\n",
       "\n",
       "    .dataframe tbody tr th {\n",
       "        vertical-align: top;\n",
       "    }\n",
       "\n",
       "    .dataframe thead th {\n",
       "        text-align: right;\n",
       "    }\n",
       "</style>\n",
       "<table border=\"1\" class=\"dataframe\">\n",
       "  <thead>\n",
       "    <tr style=\"text-align: right;\">\n",
       "      <th></th>\n",
       "      <th>Rating</th>\n",
       "      <th>cleaned_review</th>\n",
       "      <th>word_count</th>\n",
       "    </tr>\n",
       "  </thead>\n",
       "  <tbody>\n",
       "    <tr>\n",
       "      <th>0</th>\n",
       "      <td>2</td>\n",
       "      <td>went hk disneyland 5 april happens qing ming f...</td>\n",
       "      <td>82</td>\n",
       "    </tr>\n",
       "    <tr>\n",
       "      <th>1</th>\n",
       "      <td>5</td>\n",
       "      <td>wow wow wow 10 trip disney america never felt ...</td>\n",
       "      <td>37</td>\n",
       "    </tr>\n",
       "    <tr>\n",
       "      <th>2</th>\n",
       "      <td>4</td>\n",
       "      <td>2 year old favourite see golden mickey show pa...</td>\n",
       "      <td>46</td>\n",
       "    </tr>\n",
       "    <tr>\n",
       "      <th>3</th>\n",
       "      <td>5</td>\n",
       "      <td>one main attraction hong kong must see without...</td>\n",
       "      <td>14</td>\n",
       "    </tr>\n",
       "    <tr>\n",
       "      <th>4</th>\n",
       "      <td>5</td>\n",
       "      <td>loved loved loved loved loved iti 30 bloody lo...</td>\n",
       "      <td>26</td>\n",
       "    </tr>\n",
       "    <tr>\n",
       "      <th>...</th>\n",
       "      <td>...</td>\n",
       "      <td>...</td>\n",
       "      <td>...</td>\n",
       "    </tr>\n",
       "    <tr>\n",
       "      <th>9995</th>\n",
       "      <td>5</td>\n",
       "      <td>paris one beautiful city worldthere many charm...</td>\n",
       "      <td>35</td>\n",
       "    </tr>\n",
       "    <tr>\n",
       "      <th>9996</th>\n",
       "      <td>5</td>\n",
       "      <td>family spend 2 wonderful day park lot ride go ...</td>\n",
       "      <td>59</td>\n",
       "    </tr>\n",
       "    <tr>\n",
       "      <th>9997</th>\n",
       "      <td>5</td>\n",
       "      <td>visited paris took 11 year old 8 year old u th...</td>\n",
       "      <td>39</td>\n",
       "    </tr>\n",
       "    <tr>\n",
       "      <th>9998</th>\n",
       "      <td>4</td>\n",
       "      <td>little small compared disney park castle jungl...</td>\n",
       "      <td>15</td>\n",
       "    </tr>\n",
       "    <tr>\n",
       "      <th>9999</th>\n",
       "      <td>2</td>\n",
       "      <td>disneyworld disneyland little disappointing re...</td>\n",
       "      <td>12</td>\n",
       "    </tr>\n",
       "  </tbody>\n",
       "</table>\n",
       "<p>10000 rows × 3 columns</p>\n",
       "</div>"
      ],
      "text/plain": [
       "      Rating                                     cleaned_review  word_count\n",
       "0          2  went hk disneyland 5 april happens qing ming f...          82\n",
       "1          5  wow wow wow 10 trip disney america never felt ...          37\n",
       "2          4  2 year old favourite see golden mickey show pa...          46\n",
       "3          5  one main attraction hong kong must see without...          14\n",
       "4          5  loved loved loved loved loved iti 30 bloody lo...          26\n",
       "...      ...                                                ...         ...\n",
       "9995       5  paris one beautiful city worldthere many charm...          35\n",
       "9996       5  family spend 2 wonderful day park lot ride go ...          59\n",
       "9997       5  visited paris took 11 year old 8 year old u th...          39\n",
       "9998       4  little small compared disney park castle jungl...          15\n",
       "9999       2  disneyworld disneyland little disappointing re...          12\n",
       "\n",
       "[10000 rows x 3 columns]"
      ]
     },
     "execution_count": 40,
     "metadata": {},
     "output_type": "execute_result"
    }
   ],
   "source": [
    "balanced_df"
   ]
  },
  {
   "cell_type": "code",
   "execution_count": 41,
   "id": "56936230-de59-478e-956e-72f1e2276a1a",
   "metadata": {},
   "outputs": [],
   "source": [
    "df.to_csv(\"balanced_disneyland_reviews_data.csv\", index=False)"
   ]
  },
  {
   "cell_type": "markdown",
   "id": "569b7cd9-4015-4280-a138-f421faeb6fff",
   "metadata": {},
   "source": [
    "## Train-Test Splitting"
   ]
  },
  {
   "cell_type": "code",
   "execution_count": 42,
   "id": "0f617fb2-e7cc-4ded-a0e1-16473760b034",
   "metadata": {},
   "outputs": [],
   "source": [
    "from sklearn.model_selection import train_test_split"
   ]
  },
  {
   "cell_type": "code",
   "execution_count": 43,
   "id": "b17a3bde-76c8-49fd-80b6-725836e6e2b2",
   "metadata": {},
   "outputs": [],
   "source": [
    "x = balanced_df['cleaned_review']\n",
    "y = balanced_df['Rating']\n",
    "\n",
    "x_train, x_test, y_train, y_test = train_test_split(x, y, test_size=0.2, stratify=y, random_state=42)"
   ]
  },
  {
   "cell_type": "code",
   "execution_count": 44,
   "id": "75b3c819-f5b0-48ad-8e6a-b890bb95d167",
   "metadata": {},
   "outputs": [
    {
     "name": "stdout",
     "output_type": "stream",
     "text": [
      "Training set class distribution:\n",
      "Rating\n",
      "1    1600\n",
      "4    1600\n",
      "3    1600\n",
      "2    1600\n",
      "5    1600\n",
      "Name: count, dtype: int64\n"
     ]
    }
   ],
   "source": [
    "print(\"Training set class distribution:\")\n",
    "print(y_train.value_counts())\n"
   ]
  },
  {
   "cell_type": "code",
   "execution_count": 45,
   "id": "68eccf4d-ba12-417f-9842-12e4894eb9f4",
   "metadata": {},
   "outputs": [
    {
     "name": "stdout",
     "output_type": "stream",
     "text": [
      "\n",
      "Test set class distribution:\n",
      "Rating\n",
      "1    400\n",
      "2    400\n",
      "3    400\n",
      "5    400\n",
      "4    400\n",
      "Name: count, dtype: int64\n"
     ]
    }
   ],
   "source": [
    "print(\"\\nTest set class distribution:\")\n",
    "print(y_test.value_counts())\n"
   ]
  },
  {
   "cell_type": "code",
   "execution_count": 46,
   "id": "1a0c56dc-81a6-4aa1-8b3f-b964e16e10ee",
   "metadata": {},
   "outputs": [],
   "source": [
    "# Appying preprocessing to train test sets\n",
    "\n",
    "x_train_clean = x_train.apply(normalize_review)\n",
    "x_test_clean  = x_test.apply(normalize_review)\n",
    "\n",
    "#Removing rows that didn't pass the preprocessing\n",
    "train_mask = x_train_clean.notna()\n",
    "test_mask  = x_test_clean.notna()\n",
    "\n",
    "x_train_clean, y_train = x_train_clean[train_mask], y_train[train_mask]\n",
    "x_test_clean, y_test   = x_test_clean[test_mask], y_test[test_mask]"
   ]
  },
  {
   "cell_type": "markdown",
   "id": "abee747d-1feb-4468-8d1b-ee66fe222668",
   "metadata": {},
   "source": [
    "## Vectorization"
   ]
  },
  {
   "cell_type": "code",
   "execution_count": 47,
   "id": "8c6ca9e2-87ae-46a1-aaaf-a4323e52bbc9",
   "metadata": {},
   "outputs": [
    {
     "name": "stdout",
     "output_type": "stream",
     "text": [
      "(8000, 5000) (2000, 5000)\n"
     ]
    }
   ],
   "source": [
    "from sklearn.feature_extraction.text import TfidfVectorizer\n",
    "\n",
    "vectorizer = TfidfVectorizer(max_features=5000,\n",
    "                            ngram_range=(1,2),\n",
    "                            min_df=5,\n",
    "                            max_df=0.9)\n",
    "\n",
    "# fitting on training data\n",
    "x_train_vec = vectorizer.fit_transform(x_train_clean)\n",
    "\n",
    "# Transforming the test data\n",
    "x_test_vec = vectorizer.transform(x_test_clean)\n",
    "\n",
    "print(x_train_vec.shape, x_test_vec.shape)"
   ]
  },
  {
   "cell_type": "markdown",
   "id": "52c45a66-83e9-4520-88f4-55957bdd21e3",
   "metadata": {},
   "source": [
    "## Model Building"
   ]
  },
  {
   "cell_type": "markdown",
   "id": "90538a35-b75c-40d3-bda8-632f6c59bcc1",
   "metadata": {},
   "source": [
    "## Logistic Regression"
   ]
  },
  {
   "cell_type": "markdown",
   "id": "9e948c28-d64c-440d-8da5-55659510901b",
   "metadata": {},
   "source": [
    "#### Importing Libraries required for model."
   ]
  },
  {
   "cell_type": "code",
   "execution_count": 48,
   "id": "d4cc626c-d62f-469c-ab53-85ab1790d115",
   "metadata": {},
   "outputs": [],
   "source": [
    "from sklearn.linear_model import LogisticRegression\n",
    "from sklearn.metrics import accuracy_score, precision_score, recall_score, f1_score, confusion_matrix, classification_report"
   ]
  },
  {
   "cell_type": "markdown",
   "id": "8c20f0be-91a2-4181-bed9-4205cdf3a0a8",
   "metadata": {},
   "source": [
    "#### Initiating the model"
   ]
  },
  {
   "cell_type": "code",
   "execution_count": 49,
   "id": "f1099465-8b03-4e51-92cb-d612e9e4a904",
   "metadata": {},
   "outputs": [],
   "source": [
    "model = LogisticRegression(multi_class = \"multinomial\",\n",
    "                           solver = \"lbfgs\", #softmax function\n",
    "                           max_iter = 500, \n",
    "                           random_state = 42)"
   ]
  },
  {
   "cell_type": "markdown",
   "id": "df62bae2-7daa-4cc9-8c63-46181aa8748b",
   "metadata": {},
   "source": [
    "#### Fitting the model on training set"
   ]
  },
  {
   "cell_type": "code",
   "execution_count": 50,
   "id": "403dd097-a0fd-4f97-a2ca-7f0ae4ded2ff",
   "metadata": {},
   "outputs": [
    {
     "name": "stderr",
     "output_type": "stream",
     "text": [
      "C:\\Users\\joelk\\anaconda3\\Lib\\site-packages\\sklearn\\linear_model\\_logistic.py:1247: FutureWarning: 'multi_class' was deprecated in version 1.5 and will be removed in 1.7. From then on, it will always use 'multinomial'. Leave it to its default value to avoid this warning.\n",
      "  warnings.warn(\n"
     ]
    },
    {
     "data": {
      "text/html": [
       "<style>#sk-container-id-1 {\n",
       "  /* Definition of color scheme common for light and dark mode */\n",
       "  --sklearn-color-text: #000;\n",
       "  --sklearn-color-text-muted: #666;\n",
       "  --sklearn-color-line: gray;\n",
       "  /* Definition of color scheme for unfitted estimators */\n",
       "  --sklearn-color-unfitted-level-0: #fff5e6;\n",
       "  --sklearn-color-unfitted-level-1: #f6e4d2;\n",
       "  --sklearn-color-unfitted-level-2: #ffe0b3;\n",
       "  --sklearn-color-unfitted-level-3: chocolate;\n",
       "  /* Definition of color scheme for fitted estimators */\n",
       "  --sklearn-color-fitted-level-0: #f0f8ff;\n",
       "  --sklearn-color-fitted-level-1: #d4ebff;\n",
       "  --sklearn-color-fitted-level-2: #b3dbfd;\n",
       "  --sklearn-color-fitted-level-3: cornflowerblue;\n",
       "\n",
       "  /* Specific color for light theme */\n",
       "  --sklearn-color-text-on-default-background: var(--sg-text-color, var(--theme-code-foreground, var(--jp-content-font-color1, black)));\n",
       "  --sklearn-color-background: var(--sg-background-color, var(--theme-background, var(--jp-layout-color0, white)));\n",
       "  --sklearn-color-border-box: var(--sg-text-color, var(--theme-code-foreground, var(--jp-content-font-color1, black)));\n",
       "  --sklearn-color-icon: #696969;\n",
       "\n",
       "  @media (prefers-color-scheme: dark) {\n",
       "    /* Redefinition of color scheme for dark theme */\n",
       "    --sklearn-color-text-on-default-background: var(--sg-text-color, var(--theme-code-foreground, var(--jp-content-font-color1, white)));\n",
       "    --sklearn-color-background: var(--sg-background-color, var(--theme-background, var(--jp-layout-color0, #111)));\n",
       "    --sklearn-color-border-box: var(--sg-text-color, var(--theme-code-foreground, var(--jp-content-font-color1, white)));\n",
       "    --sklearn-color-icon: #878787;\n",
       "  }\n",
       "}\n",
       "\n",
       "#sk-container-id-1 {\n",
       "  color: var(--sklearn-color-text);\n",
       "}\n",
       "\n",
       "#sk-container-id-1 pre {\n",
       "  padding: 0;\n",
       "}\n",
       "\n",
       "#sk-container-id-1 input.sk-hidden--visually {\n",
       "  border: 0;\n",
       "  clip: rect(1px 1px 1px 1px);\n",
       "  clip: rect(1px, 1px, 1px, 1px);\n",
       "  height: 1px;\n",
       "  margin: -1px;\n",
       "  overflow: hidden;\n",
       "  padding: 0;\n",
       "  position: absolute;\n",
       "  width: 1px;\n",
       "}\n",
       "\n",
       "#sk-container-id-1 div.sk-dashed-wrapped {\n",
       "  border: 1px dashed var(--sklearn-color-line);\n",
       "  margin: 0 0.4em 0.5em 0.4em;\n",
       "  box-sizing: border-box;\n",
       "  padding-bottom: 0.4em;\n",
       "  background-color: var(--sklearn-color-background);\n",
       "}\n",
       "\n",
       "#sk-container-id-1 div.sk-container {\n",
       "  /* jupyter's `normalize.less` sets `[hidden] { display: none; }`\n",
       "     but bootstrap.min.css set `[hidden] { display: none !important; }`\n",
       "     so we also need the `!important` here to be able to override the\n",
       "     default hidden behavior on the sphinx rendered scikit-learn.org.\n",
       "     See: https://github.com/scikit-learn/scikit-learn/issues/21755 */\n",
       "  display: inline-block !important;\n",
       "  position: relative;\n",
       "}\n",
       "\n",
       "#sk-container-id-1 div.sk-text-repr-fallback {\n",
       "  display: none;\n",
       "}\n",
       "\n",
       "div.sk-parallel-item,\n",
       "div.sk-serial,\n",
       "div.sk-item {\n",
       "  /* draw centered vertical line to link estimators */\n",
       "  background-image: linear-gradient(var(--sklearn-color-text-on-default-background), var(--sklearn-color-text-on-default-background));\n",
       "  background-size: 2px 100%;\n",
       "  background-repeat: no-repeat;\n",
       "  background-position: center center;\n",
       "}\n",
       "\n",
       "/* Parallel-specific style estimator block */\n",
       "\n",
       "#sk-container-id-1 div.sk-parallel-item::after {\n",
       "  content: \"\";\n",
       "  width: 100%;\n",
       "  border-bottom: 2px solid var(--sklearn-color-text-on-default-background);\n",
       "  flex-grow: 1;\n",
       "}\n",
       "\n",
       "#sk-container-id-1 div.sk-parallel {\n",
       "  display: flex;\n",
       "  align-items: stretch;\n",
       "  justify-content: center;\n",
       "  background-color: var(--sklearn-color-background);\n",
       "  position: relative;\n",
       "}\n",
       "\n",
       "#sk-container-id-1 div.sk-parallel-item {\n",
       "  display: flex;\n",
       "  flex-direction: column;\n",
       "}\n",
       "\n",
       "#sk-container-id-1 div.sk-parallel-item:first-child::after {\n",
       "  align-self: flex-end;\n",
       "  width: 50%;\n",
       "}\n",
       "\n",
       "#sk-container-id-1 div.sk-parallel-item:last-child::after {\n",
       "  align-self: flex-start;\n",
       "  width: 50%;\n",
       "}\n",
       "\n",
       "#sk-container-id-1 div.sk-parallel-item:only-child::after {\n",
       "  width: 0;\n",
       "}\n",
       "\n",
       "/* Serial-specific style estimator block */\n",
       "\n",
       "#sk-container-id-1 div.sk-serial {\n",
       "  display: flex;\n",
       "  flex-direction: column;\n",
       "  align-items: center;\n",
       "  background-color: var(--sklearn-color-background);\n",
       "  padding-right: 1em;\n",
       "  padding-left: 1em;\n",
       "}\n",
       "\n",
       "\n",
       "/* Toggleable style: style used for estimator/Pipeline/ColumnTransformer box that is\n",
       "clickable and can be expanded/collapsed.\n",
       "- Pipeline and ColumnTransformer use this feature and define the default style\n",
       "- Estimators will overwrite some part of the style using the `sk-estimator` class\n",
       "*/\n",
       "\n",
       "/* Pipeline and ColumnTransformer style (default) */\n",
       "\n",
       "#sk-container-id-1 div.sk-toggleable {\n",
       "  /* Default theme specific background. It is overwritten whether we have a\n",
       "  specific estimator or a Pipeline/ColumnTransformer */\n",
       "  background-color: var(--sklearn-color-background);\n",
       "}\n",
       "\n",
       "/* Toggleable label */\n",
       "#sk-container-id-1 label.sk-toggleable__label {\n",
       "  cursor: pointer;\n",
       "  display: flex;\n",
       "  width: 100%;\n",
       "  margin-bottom: 0;\n",
       "  padding: 0.5em;\n",
       "  box-sizing: border-box;\n",
       "  text-align: center;\n",
       "  align-items: start;\n",
       "  justify-content: space-between;\n",
       "  gap: 0.5em;\n",
       "}\n",
       "\n",
       "#sk-container-id-1 label.sk-toggleable__label .caption {\n",
       "  font-size: 0.6rem;\n",
       "  font-weight: lighter;\n",
       "  color: var(--sklearn-color-text-muted);\n",
       "}\n",
       "\n",
       "#sk-container-id-1 label.sk-toggleable__label-arrow:before {\n",
       "  /* Arrow on the left of the label */\n",
       "  content: \"▸\";\n",
       "  float: left;\n",
       "  margin-right: 0.25em;\n",
       "  color: var(--sklearn-color-icon);\n",
       "}\n",
       "\n",
       "#sk-container-id-1 label.sk-toggleable__label-arrow:hover:before {\n",
       "  color: var(--sklearn-color-text);\n",
       "}\n",
       "\n",
       "/* Toggleable content - dropdown */\n",
       "\n",
       "#sk-container-id-1 div.sk-toggleable__content {\n",
       "  max-height: 0;\n",
       "  max-width: 0;\n",
       "  overflow: hidden;\n",
       "  text-align: left;\n",
       "  /* unfitted */\n",
       "  background-color: var(--sklearn-color-unfitted-level-0);\n",
       "}\n",
       "\n",
       "#sk-container-id-1 div.sk-toggleable__content.fitted {\n",
       "  /* fitted */\n",
       "  background-color: var(--sklearn-color-fitted-level-0);\n",
       "}\n",
       "\n",
       "#sk-container-id-1 div.sk-toggleable__content pre {\n",
       "  margin: 0.2em;\n",
       "  border-radius: 0.25em;\n",
       "  color: var(--sklearn-color-text);\n",
       "  /* unfitted */\n",
       "  background-color: var(--sklearn-color-unfitted-level-0);\n",
       "}\n",
       "\n",
       "#sk-container-id-1 div.sk-toggleable__content.fitted pre {\n",
       "  /* unfitted */\n",
       "  background-color: var(--sklearn-color-fitted-level-0);\n",
       "}\n",
       "\n",
       "#sk-container-id-1 input.sk-toggleable__control:checked~div.sk-toggleable__content {\n",
       "  /* Expand drop-down */\n",
       "  max-height: 200px;\n",
       "  max-width: 100%;\n",
       "  overflow: auto;\n",
       "}\n",
       "\n",
       "#sk-container-id-1 input.sk-toggleable__control:checked~label.sk-toggleable__label-arrow:before {\n",
       "  content: \"▾\";\n",
       "}\n",
       "\n",
       "/* Pipeline/ColumnTransformer-specific style */\n",
       "\n",
       "#sk-container-id-1 div.sk-label input.sk-toggleable__control:checked~label.sk-toggleable__label {\n",
       "  color: var(--sklearn-color-text);\n",
       "  background-color: var(--sklearn-color-unfitted-level-2);\n",
       "}\n",
       "\n",
       "#sk-container-id-1 div.sk-label.fitted input.sk-toggleable__control:checked~label.sk-toggleable__label {\n",
       "  background-color: var(--sklearn-color-fitted-level-2);\n",
       "}\n",
       "\n",
       "/* Estimator-specific style */\n",
       "\n",
       "/* Colorize estimator box */\n",
       "#sk-container-id-1 div.sk-estimator input.sk-toggleable__control:checked~label.sk-toggleable__label {\n",
       "  /* unfitted */\n",
       "  background-color: var(--sklearn-color-unfitted-level-2);\n",
       "}\n",
       "\n",
       "#sk-container-id-1 div.sk-estimator.fitted input.sk-toggleable__control:checked~label.sk-toggleable__label {\n",
       "  /* fitted */\n",
       "  background-color: var(--sklearn-color-fitted-level-2);\n",
       "}\n",
       "\n",
       "#sk-container-id-1 div.sk-label label.sk-toggleable__label,\n",
       "#sk-container-id-1 div.sk-label label {\n",
       "  /* The background is the default theme color */\n",
       "  color: var(--sklearn-color-text-on-default-background);\n",
       "}\n",
       "\n",
       "/* On hover, darken the color of the background */\n",
       "#sk-container-id-1 div.sk-label:hover label.sk-toggleable__label {\n",
       "  color: var(--sklearn-color-text);\n",
       "  background-color: var(--sklearn-color-unfitted-level-2);\n",
       "}\n",
       "\n",
       "/* Label box, darken color on hover, fitted */\n",
       "#sk-container-id-1 div.sk-label.fitted:hover label.sk-toggleable__label.fitted {\n",
       "  color: var(--sklearn-color-text);\n",
       "  background-color: var(--sklearn-color-fitted-level-2);\n",
       "}\n",
       "\n",
       "/* Estimator label */\n",
       "\n",
       "#sk-container-id-1 div.sk-label label {\n",
       "  font-family: monospace;\n",
       "  font-weight: bold;\n",
       "  display: inline-block;\n",
       "  line-height: 1.2em;\n",
       "}\n",
       "\n",
       "#sk-container-id-1 div.sk-label-container {\n",
       "  text-align: center;\n",
       "}\n",
       "\n",
       "/* Estimator-specific */\n",
       "#sk-container-id-1 div.sk-estimator {\n",
       "  font-family: monospace;\n",
       "  border: 1px dotted var(--sklearn-color-border-box);\n",
       "  border-radius: 0.25em;\n",
       "  box-sizing: border-box;\n",
       "  margin-bottom: 0.5em;\n",
       "  /* unfitted */\n",
       "  background-color: var(--sklearn-color-unfitted-level-0);\n",
       "}\n",
       "\n",
       "#sk-container-id-1 div.sk-estimator.fitted {\n",
       "  /* fitted */\n",
       "  background-color: var(--sklearn-color-fitted-level-0);\n",
       "}\n",
       "\n",
       "/* on hover */\n",
       "#sk-container-id-1 div.sk-estimator:hover {\n",
       "  /* unfitted */\n",
       "  background-color: var(--sklearn-color-unfitted-level-2);\n",
       "}\n",
       "\n",
       "#sk-container-id-1 div.sk-estimator.fitted:hover {\n",
       "  /* fitted */\n",
       "  background-color: var(--sklearn-color-fitted-level-2);\n",
       "}\n",
       "\n",
       "/* Specification for estimator info (e.g. \"i\" and \"?\") */\n",
       "\n",
       "/* Common style for \"i\" and \"?\" */\n",
       "\n",
       ".sk-estimator-doc-link,\n",
       "a:link.sk-estimator-doc-link,\n",
       "a:visited.sk-estimator-doc-link {\n",
       "  float: right;\n",
       "  font-size: smaller;\n",
       "  line-height: 1em;\n",
       "  font-family: monospace;\n",
       "  background-color: var(--sklearn-color-background);\n",
       "  border-radius: 1em;\n",
       "  height: 1em;\n",
       "  width: 1em;\n",
       "  text-decoration: none !important;\n",
       "  margin-left: 0.5em;\n",
       "  text-align: center;\n",
       "  /* unfitted */\n",
       "  border: var(--sklearn-color-unfitted-level-1) 1pt solid;\n",
       "  color: var(--sklearn-color-unfitted-level-1);\n",
       "}\n",
       "\n",
       ".sk-estimator-doc-link.fitted,\n",
       "a:link.sk-estimator-doc-link.fitted,\n",
       "a:visited.sk-estimator-doc-link.fitted {\n",
       "  /* fitted */\n",
       "  border: var(--sklearn-color-fitted-level-1) 1pt solid;\n",
       "  color: var(--sklearn-color-fitted-level-1);\n",
       "}\n",
       "\n",
       "/* On hover */\n",
       "div.sk-estimator:hover .sk-estimator-doc-link:hover,\n",
       ".sk-estimator-doc-link:hover,\n",
       "div.sk-label-container:hover .sk-estimator-doc-link:hover,\n",
       ".sk-estimator-doc-link:hover {\n",
       "  /* unfitted */\n",
       "  background-color: var(--sklearn-color-unfitted-level-3);\n",
       "  color: var(--sklearn-color-background);\n",
       "  text-decoration: none;\n",
       "}\n",
       "\n",
       "div.sk-estimator.fitted:hover .sk-estimator-doc-link.fitted:hover,\n",
       ".sk-estimator-doc-link.fitted:hover,\n",
       "div.sk-label-container:hover .sk-estimator-doc-link.fitted:hover,\n",
       ".sk-estimator-doc-link.fitted:hover {\n",
       "  /* fitted */\n",
       "  background-color: var(--sklearn-color-fitted-level-3);\n",
       "  color: var(--sklearn-color-background);\n",
       "  text-decoration: none;\n",
       "}\n",
       "\n",
       "/* Span, style for the box shown on hovering the info icon */\n",
       ".sk-estimator-doc-link span {\n",
       "  display: none;\n",
       "  z-index: 9999;\n",
       "  position: relative;\n",
       "  font-weight: normal;\n",
       "  right: .2ex;\n",
       "  padding: .5ex;\n",
       "  margin: .5ex;\n",
       "  width: min-content;\n",
       "  min-width: 20ex;\n",
       "  max-width: 50ex;\n",
       "  color: var(--sklearn-color-text);\n",
       "  box-shadow: 2pt 2pt 4pt #999;\n",
       "  /* unfitted */\n",
       "  background: var(--sklearn-color-unfitted-level-0);\n",
       "  border: .5pt solid var(--sklearn-color-unfitted-level-3);\n",
       "}\n",
       "\n",
       ".sk-estimator-doc-link.fitted span {\n",
       "  /* fitted */\n",
       "  background: var(--sklearn-color-fitted-level-0);\n",
       "  border: var(--sklearn-color-fitted-level-3);\n",
       "}\n",
       "\n",
       ".sk-estimator-doc-link:hover span {\n",
       "  display: block;\n",
       "}\n",
       "\n",
       "/* \"?\"-specific style due to the `<a>` HTML tag */\n",
       "\n",
       "#sk-container-id-1 a.estimator_doc_link {\n",
       "  float: right;\n",
       "  font-size: 1rem;\n",
       "  line-height: 1em;\n",
       "  font-family: monospace;\n",
       "  background-color: var(--sklearn-color-background);\n",
       "  border-radius: 1rem;\n",
       "  height: 1rem;\n",
       "  width: 1rem;\n",
       "  text-decoration: none;\n",
       "  /* unfitted */\n",
       "  color: var(--sklearn-color-unfitted-level-1);\n",
       "  border: var(--sklearn-color-unfitted-level-1) 1pt solid;\n",
       "}\n",
       "\n",
       "#sk-container-id-1 a.estimator_doc_link.fitted {\n",
       "  /* fitted */\n",
       "  border: var(--sklearn-color-fitted-level-1) 1pt solid;\n",
       "  color: var(--sklearn-color-fitted-level-1);\n",
       "}\n",
       "\n",
       "/* On hover */\n",
       "#sk-container-id-1 a.estimator_doc_link:hover {\n",
       "  /* unfitted */\n",
       "  background-color: var(--sklearn-color-unfitted-level-3);\n",
       "  color: var(--sklearn-color-background);\n",
       "  text-decoration: none;\n",
       "}\n",
       "\n",
       "#sk-container-id-1 a.estimator_doc_link.fitted:hover {\n",
       "  /* fitted */\n",
       "  background-color: var(--sklearn-color-fitted-level-3);\n",
       "}\n",
       "</style><div id=\"sk-container-id-1\" class=\"sk-top-container\"><div class=\"sk-text-repr-fallback\"><pre>LogisticRegression(max_iter=500, multi_class=&#x27;multinomial&#x27;, random_state=42)</pre><b>In a Jupyter environment, please rerun this cell to show the HTML representation or trust the notebook. <br />On GitHub, the HTML representation is unable to render, please try loading this page with nbviewer.org.</b></div><div class=\"sk-container\" hidden><div class=\"sk-item\"><div class=\"sk-estimator fitted sk-toggleable\"><input class=\"sk-toggleable__control sk-hidden--visually\" id=\"sk-estimator-id-1\" type=\"checkbox\" checked><label for=\"sk-estimator-id-1\" class=\"sk-toggleable__label fitted sk-toggleable__label-arrow\"><div><div>LogisticRegression</div></div><div><a class=\"sk-estimator-doc-link fitted\" rel=\"noreferrer\" target=\"_blank\" href=\"https://scikit-learn.org/1.6/modules/generated/sklearn.linear_model.LogisticRegression.html\">?<span>Documentation for LogisticRegression</span></a><span class=\"sk-estimator-doc-link fitted\">i<span>Fitted</span></span></div></label><div class=\"sk-toggleable__content fitted\"><pre>LogisticRegression(max_iter=500, multi_class=&#x27;multinomial&#x27;, random_state=42)</pre></div> </div></div></div></div>"
      ],
      "text/plain": [
       "LogisticRegression(max_iter=500, multi_class='multinomial', random_state=42)"
      ]
     },
     "execution_count": 50,
     "metadata": {},
     "output_type": "execute_result"
    }
   ],
   "source": [
    "model.fit(x_train_vec, y_train)"
   ]
  },
  {
   "cell_type": "markdown",
   "id": "795a66f9-3a46-4243-a2ca-668e1507196c",
   "metadata": {},
   "source": [
    "#### Making Predictions on test data"
   ]
  },
  {
   "cell_type": "code",
   "execution_count": 51,
   "id": "05f69e52-3f01-4387-ab7f-853ba4aaab30",
   "metadata": {},
   "outputs": [],
   "source": [
    "y_pred = model.predict(x_test_vec)"
   ]
  },
  {
   "cell_type": "markdown",
   "id": "3096c097-9c54-491e-9f84-48d090e8b4b4",
   "metadata": {},
   "source": [
    "### Evaluating the model"
   ]
  },
  {
   "cell_type": "code",
   "execution_count": 52,
   "id": "fa81a760-1487-4116-95b9-30d922e6b73d",
   "metadata": {},
   "outputs": [
    {
     "name": "stdout",
     "output_type": "stream",
     "text": [
      "\n",
      "Accuracy of model :  0.6055\n",
      "Precision         :  0.594842503205645\n",
      "Recall            :  0.6055\n",
      "F1 Score          :  0.5980952508493067\n",
      "\n",
      "Confusion Matrix : \n",
      " [[347  25  18   5   5]\n",
      " [ 61 268  53   9   9]\n",
      " [ 48  79 166  69  38]\n",
      " [ 15  22  82 173 108]\n",
      " [  7   6  23 107 257]]\n"
     ]
    }
   ],
   "source": [
    "#Accuracy of model\n",
    "accuracy = accuracy_score(y_test, y_pred)\n",
    "\n",
    "#precision, recall, f1_score\n",
    "precision = precision_score(y_test, y_pred, average=\"macro\")\n",
    "\n",
    "recall = recall_score(y_test, y_pred, average=\"macro\")\n",
    "\n",
    "f1 = f1_score(y_test, y_pred, average=\"macro\")\n",
    "\n",
    "#Confusion Matrix\n",
    "conf_matrix = confusion_matrix(y_test, y_pred)\n",
    "\n",
    "\n",
    "print(\"\\nAccuracy of model : \",accuracy)\n",
    "print(\"Precision         : \",precision)\n",
    "print(\"Recall            : \",recall)\n",
    "print(\"F1 Score          : \",f1)\n",
    "print(\"\\nConfusion Matrix : \\n\",conf_matrix)"
   ]
  },
  {
   "cell_type": "code",
   "execution_count": 53,
   "id": "ef9d4809-6c53-4fdf-a8c3-7e0229979874",
   "metadata": {},
   "outputs": [
    {
     "name": "stdout",
     "output_type": "stream",
     "text": [
      "0.82 0.6055\n"
     ]
    }
   ],
   "source": [
    "train_accuracy = model.score(x_train_vec, y_train)\n",
    "test_accuracy = model.score(x_test_vec, y_test)\n",
    "print(train_accuracy, test_accuracy)\n"
   ]
  },
  {
   "cell_type": "code",
   "execution_count": 54,
   "id": "11517f31-acbe-4ff0-a3f0-fad079bd0df5",
   "metadata": {},
   "outputs": [
    {
     "data": {
      "image/png": "[encoded data removed]",
      "text/plain": [
       "<Figure size 500x400 with 2 Axes>"
      ]
     },
     "metadata": {},
     "output_type": "display_data"
    }
   ],
   "source": [
    "\n",
    "labels = [1,2,3,4,5]\n",
    "\n",
    "plt.figure(figsize=(5,4))\n",
    "sns.heatmap(conf_matrix, annot=True, fmt='d', cmap='viridis', xticklabels=labels, yticklabels=labels)\n",
    "plt.xlabel(\"Predicted Rating\", fontsize=12)\n",
    "plt.ylabel(\"True Rating\", fontsize=12)\n",
    "plt.title(\"Confusion Matrix of Logistic Regression\", fontsize=16, pad=20)\n",
    "plt.show()"
   ]
  },
  {
   "cell_type": "markdown",
   "id": "b7390df6-8289-44be-bfe7-dc07634fe06b",
   "metadata": {},
   "source": [
    "#### Inferences :\n",
    "####  * 58% of the reviews were correctly classified.\n",
    "####  * Rating 1, 2 and 5 are best predicted ratings\n",
    "\n",
    "####   -- Rating 1 : 339/400 is correct (mostly predicted correctly)\n",
    "####   -- Rating 2 : 263/400\n",
    "####   -- Rating 5 : 251/400 is correct\n",
    "\n",
    "####  * Rating 3 and 4 is more misclassified\n",
    "####  * Most of the misclassifications are 1 rating away. (for example rating 3 is predicted as 2 or 4)"
   ]
  },
  {
   "cell_type": "markdown",
   "id": "0d955912-aadf-42f6-8c8f-b09f068334d0",
   "metadata": {},
   "source": [
    "# Fine Tuning "
   ]
  },
  {
   "cell_type": "markdown",
   "id": "3f7158a4-ae85-43dd-8cf8-6586d4bc58c2",
   "metadata": {},
   "source": [
    "\n",
    "* Changing the number of maximum features in TF-IDF vectorizer : No change in accuracy\n",
    "* After updating the parameters ngram_range, min_df and max_df , the accuracy increased by 2% resulting 60.5% accuracy.\n",
    "* Tried different solvers for the model, but it did not made much difference in the accuracy.\n",
    "* Adjusting Regularization in the logistic regression model : model Overfitting "
   ]
  },
  {
   "cell_type": "markdown",
   "id": "fb4256e5-ffeb-43d8-bb60-a94204a68604",
   "metadata": {},
   "source": [
    "## SVM"
   ]
  },
  {
   "cell_type": "code",
   "execution_count": 55,
   "id": "56886a16-9d07-4fe1-b4a6-53f6cb43cd70",
   "metadata": {},
   "outputs": [],
   "source": [
    "from sklearn.svm import LinearSVC\n",
    "svm = LinearSVC()\n",
    "svm.fit(x_train_vec, y_train)\n",
    "y_pred_svm = svm.predict(x_test_vec)"
   ]
  },
  {
   "cell_type": "code",
   "execution_count": 56,
   "id": "9422e29a-2a95-4ad4-a12e-7b864528ec8f",
   "metadata": {},
   "outputs": [
    {
     "name": "stdout",
     "output_type": "stream",
     "text": [
      "\n",
      "Accuracy of model :  0.6195\n",
      "Precision         :  0.6038739961079479\n",
      "Recall            :  0.6195\n",
      "F1 Score          :  0.6086510261552847\n",
      "\n",
      "Confusion Matrix : \n",
      " [[362  13  17   5   3]\n",
      " [ 32 311  34  14   9]\n",
      " [ 44  74 163  74  45]\n",
      " [ 16  24  79 148 133]\n",
      " [ 10   7  30  98 255]]\n"
     ]
    }
   ],
   "source": [
    "from sklearn.metrics import accuracy_score, precision_score, recall_score, f1_score, confusion_matrix\n",
    "\n",
    "accuracy = accuracy_score(y_test, y_pred_svm)\n",
    "precision = precision_score(y_test, y_pred_svm, average='weighted')\n",
    "recall = recall_score(y_test, y_pred_svm, average='weighted')\n",
    "f1 = f1_score(y_test, y_pred_svm, average='weighted')\n",
    "cm = confusion_matrix(y_test, y_pred_svm)\n",
    "\n",
    "print(\"\\nAccuracy of model : \",accuracy)\n",
    "print(\"Precision         : \",precision)\n",
    "print(\"Recall            : \",recall)\n",
    "print(\"F1 Score          : \",f1)\n",
    "print(\"\\nConfusion Matrix : \\n\",cm)"
   ]
  },
  {
   "cell_type": "code",
   "execution_count": 57,
   "id": "4afc7e6d-439f-4fb0-a1d8-0fa01be0a3dd",
   "metadata": {},
   "outputs": [
    {
     "data": {
      "image/png": "[encoded data removed]",
      "text/plain": [
       "<Figure size 500x400 with 2 Axes>"
      ]
     },
     "metadata": {},
     "output_type": "display_data"
    }
   ],
   "source": [
    "labels = [1,2,3,4,5]\n",
    "\n",
    "plt.figure(figsize=(5,4))\n",
    "sns.heatmap(cm, annot=True, fmt='d', cmap='viridis', xticklabels=labels, yticklabels=labels)\n",
    "plt.xlabel(\"Predicted Rating\", fontsize=12)\n",
    "plt.ylabel(\"True Rating\", fontsize=12)\n",
    "plt.title(\"Confusion Matrix of SVM\", fontsize=16, pad=20)\n",
    "plt.show()"
   ]
  },
  {
   "cell_type": "markdown",
   "id": "bcac10dc-d6ae-46c7-b27a-05c434973498",
   "metadata": {},
   "source": [
    "## Multinomial Naive Bayes"
   ]
  },
  {
   "cell_type": "code",
   "execution_count": 58,
   "id": "1f79d52d-ad79-4e23-b564-f56bbe393b65",
   "metadata": {},
   "outputs": [],
   "source": [
    "from sklearn.naive_bayes import MultinomialNB\n",
    "mnb = MultinomialNB()\n",
    "mnb.fit(x_train_vec, y_train)\n",
    "y_pred_mnb = mnb.predict(x_test_vec)\n"
   ]
  },
  {
   "cell_type": "code",
   "execution_count": 59,
   "id": "358c5a93-9567-40b9-8572-0f6a280eea92",
   "metadata": {},
   "outputs": [
    {
     "name": "stdout",
     "output_type": "stream",
     "text": [
      "\n",
      "Accuracy of model :  0.583\n",
      "Precision         :  0.575766437344807\n",
      "Recall            :  0.583\n",
      "F1 Score          :  0.5779424192597924\n",
      "\n",
      "Confusion Matrix : \n",
      " [[326  36  27   5   6]\n",
      " [ 75 240  63  16   6]\n",
      " [ 48  73 165  85  29]\n",
      " [ 11  28  70 177 114]\n",
      " [  6   7  21 108 258]]\n"
     ]
    }
   ],
   "source": [
    "accuracy = accuracy_score(y_test, y_pred_mnb)\n",
    "precision = precision_score(y_test, y_pred_mnb, average='weighted')\n",
    "recall = recall_score(y_test, y_pred_mnb, average='weighted')\n",
    "f1 = f1_score(y_test, y_pred_mnb, average='weighted')\n",
    "cm = confusion_matrix(y_test, y_pred_mnb)\n",
    "\n",
    "print(\"\\nAccuracy of model : \",accuracy)\n",
    "print(\"Precision         : \",precision)\n",
    "print(\"Recall            : \",recall)\n",
    "print(\"F1 Score          : \",f1)\n",
    "print(\"\\nConfusion Matrix : \\n\",cm)"
   ]
  },
  {
   "cell_type": "code",
   "execution_count": null,
   "id": "ae3f9fb6-e986-4785-9d52-610f5cea125c",
   "metadata": {},
   "outputs": [],
   "source": []
  }
 ],
 "metadata": {
  "kernelspec": {
   "display_name": "Python [conda env:base] *",
   "language": "python",
   "name": "conda-base-py"
  },
  "language_info": {
   "codemirror_mode": {
    "name": "ipython",
    "version": 3
   },
   "file_extension": ".py",
   "mimetype": "text/x-python",
   "name": "python",
   "nbconvert_exporter": "python",
   "pygments_lexer": "ipython3",
   "version": "3.13.5"
  }
 },
 "nbformat": 4,
 "nbformat_minor": 5
}
