{
 "cells": [
  {
   "cell_type": "markdown",
   "id": "aecdea92-f87e-49bb-98a8-1ee930ab94bb",
   "metadata": {},
   "source": [
    "### Importing Libraries"
   ]
  },
  {
   "cell_type": "code",
   "execution_count": 1,
   "id": "e73cdd8c-9ad1-452a-b152-1d83a1a2782a",
   "metadata": {},
   "outputs": [],
   "source": [
    "import pandas as pd\n",
    "import seaborn as sns\n",
    "import matplotlib.pyplot as plt\n",
    "\n",
    "import re\n",
    "import string\n",
    "import nltk\n",
    "from nltk.corpus import stopwords\n",
    "from nltk.stem import WordNetLemmatizer\n",
    "from bs4 import BeautifulSoup\n",
    "import emoji"
   ]
  },
  {
   "cell_type": "markdown",
   "id": "0d7463f9-ab00-46b6-bc0d-778bba71e4ee",
   "metadata": {},
   "source": [
    "### Loading the data"
   ]
  },
  {
   "cell_type": "code",
   "execution_count": 2,
   "id": "2eb484d2-1e40-4d1c-8179-b044ed58e9f6",
   "metadata": {},
   "outputs": [],
   "source": [
    "df = pd.read_csv(\"C:/Users/joelk/automated-review-rating-system/data/Kaggle Datasets/Disneyland_Reviews.csv\", encoding=\"latin1\")"
   ]
  },
  {
   "cell_type": "markdown",
   "id": "c4818b64-eef6-46ba-8c7b-8a98a41000d9",
   "metadata": {},
   "source": [
    "### Data structures"
   ]
  },
  {
   "cell_type": "code",
   "execution_count": 3,
   "id": "90b22e5c-67a5-4cc0-9449-064260ea3494",
   "metadata": {},
   "outputs": [
    {
     "data": {
      "text/html": [
       "<div>\n",
       "<style scoped>\n",
       "    .dataframe tbody tr th:only-of-type {\n",
       "        vertical-align: middle;\n",
       "    }\n",
       "\n",
       "    .dataframe tbody tr th {\n",
       "        vertical-align: top;\n",
       "    }\n",
       "\n",
       "    .dataframe thead th {\n",
       "        text-align: right;\n",
       "    }\n",
       "</style>\n",
       "<table border=\"1\" class=\"dataframe\">\n",
       "  <thead>\n",
       "    <tr style=\"text-align: right;\">\n",
       "      <th></th>\n",
       "      <th>Review_ID</th>\n",
       "      <th>Rating</th>\n",
       "      <th>Year_Month</th>\n",
       "      <th>Reviewer_Location</th>\n",
       "      <th>Review_Text</th>\n",
       "      <th>Branch</th>\n",
       "    </tr>\n",
       "  </thead>\n",
       "  <tbody>\n",
       "    <tr>\n",
       "      <th>0</th>\n",
       "      <td>670772142</td>\n",
       "      <td>4</td>\n",
       "      <td>2019-4</td>\n",
       "      <td>Australia</td>\n",
       "      <td>If you've ever been to Disneyland anywhere you...</td>\n",
       "      <td>Disneyland_HongKong</td>\n",
       "    </tr>\n",
       "    <tr>\n",
       "      <th>1</th>\n",
       "      <td>670682799</td>\n",
       "      <td>4</td>\n",
       "      <td>2019-5</td>\n",
       "      <td>Philippines</td>\n",
       "      <td>Its been a while since d last time we visit HK...</td>\n",
       "      <td>Disneyland_HongKong</td>\n",
       "    </tr>\n",
       "    <tr>\n",
       "      <th>2</th>\n",
       "      <td>670623270</td>\n",
       "      <td>4</td>\n",
       "      <td>2019-4</td>\n",
       "      <td>United Arab Emirates</td>\n",
       "      <td>Thanks God it wasn   t too hot or too humid wh...</td>\n",
       "      <td>Disneyland_HongKong</td>\n",
       "    </tr>\n",
       "    <tr>\n",
       "      <th>3</th>\n",
       "      <td>670607911</td>\n",
       "      <td>4</td>\n",
       "      <td>2019-4</td>\n",
       "      <td>Australia</td>\n",
       "      <td>HK Disneyland is a great compact park. Unfortu...</td>\n",
       "      <td>Disneyland_HongKong</td>\n",
       "    </tr>\n",
       "    <tr>\n",
       "      <th>4</th>\n",
       "      <td>670607296</td>\n",
       "      <td>4</td>\n",
       "      <td>2019-4</td>\n",
       "      <td>United Kingdom</td>\n",
       "      <td>the location is not in the city, took around 1...</td>\n",
       "      <td>Disneyland_HongKong</td>\n",
       "    </tr>\n",
       "  </tbody>\n",
       "</table>\n",
       "</div>"
      ],
      "text/plain": [
       "   Review_ID  Rating Year_Month     Reviewer_Location  \\\n",
       "0  670772142       4     2019-4             Australia   \n",
       "1  670682799       4     2019-5           Philippines   \n",
       "2  670623270       4     2019-4  United Arab Emirates   \n",
       "3  670607911       4     2019-4             Australia   \n",
       "4  670607296       4     2019-4        United Kingdom   \n",
       "\n",
       "                                         Review_Text               Branch  \n",
       "0  If you've ever been to Disneyland anywhere you...  Disneyland_HongKong  \n",
       "1  Its been a while since d last time we visit HK...  Disneyland_HongKong  \n",
       "2  Thanks God it wasn   t too hot or too humid wh...  Disneyland_HongKong  \n",
       "3  HK Disneyland is a great compact park. Unfortu...  Disneyland_HongKong  \n",
       "4  the location is not in the city, took around 1...  Disneyland_HongKong  "
      ]
     },
     "execution_count": 3,
     "metadata": {},
     "output_type": "execute_result"
    }
   ],
   "source": [
    "df.head()"
   ]
  },
  {
   "cell_type": "code",
   "execution_count": 4,
   "id": "6f57e8e0-ce2b-4faf-8440-63a38598bf76",
   "metadata": {},
   "outputs": [
    {
     "data": {
      "text/html": [
       "<div>\n",
       "<style scoped>\n",
       "    .dataframe tbody tr th:only-of-type {\n",
       "        vertical-align: middle;\n",
       "    }\n",
       "\n",
       "    .dataframe tbody tr th {\n",
       "        vertical-align: top;\n",
       "    }\n",
       "\n",
       "    .dataframe thead th {\n",
       "        text-align: right;\n",
       "    }\n",
       "</style>\n",
       "<table border=\"1\" class=\"dataframe\">\n",
       "  <thead>\n",
       "    <tr style=\"text-align: right;\">\n",
       "      <th></th>\n",
       "      <th>Review_ID</th>\n",
       "      <th>Rating</th>\n",
       "      <th>Year_Month</th>\n",
       "      <th>Reviewer_Location</th>\n",
       "      <th>Review_Text</th>\n",
       "      <th>Branch</th>\n",
       "    </tr>\n",
       "  </thead>\n",
       "  <tbody>\n",
       "    <tr>\n",
       "      <th>42651</th>\n",
       "      <td>1765031</td>\n",
       "      <td>5</td>\n",
       "      <td>missing</td>\n",
       "      <td>United Kingdom</td>\n",
       "      <td>i went to disneyland paris in july 03 and thou...</td>\n",
       "      <td>Disneyland_Paris</td>\n",
       "    </tr>\n",
       "    <tr>\n",
       "      <th>42652</th>\n",
       "      <td>1659553</td>\n",
       "      <td>5</td>\n",
       "      <td>missing</td>\n",
       "      <td>Canada</td>\n",
       "      <td>2 adults and 1 child of 11 visited Disneyland ...</td>\n",
       "      <td>Disneyland_Paris</td>\n",
       "    </tr>\n",
       "    <tr>\n",
       "      <th>42653</th>\n",
       "      <td>1645894</td>\n",
       "      <td>5</td>\n",
       "      <td>missing</td>\n",
       "      <td>South Africa</td>\n",
       "      <td>My eleven year old daughter and myself went to...</td>\n",
       "      <td>Disneyland_Paris</td>\n",
       "    </tr>\n",
       "    <tr>\n",
       "      <th>42654</th>\n",
       "      <td>1618637</td>\n",
       "      <td>4</td>\n",
       "      <td>missing</td>\n",
       "      <td>United States</td>\n",
       "      <td>This hotel, part of the Disneyland Paris compl...</td>\n",
       "      <td>Disneyland_Paris</td>\n",
       "    </tr>\n",
       "    <tr>\n",
       "      <th>42655</th>\n",
       "      <td>1536786</td>\n",
       "      <td>4</td>\n",
       "      <td>missing</td>\n",
       "      <td>United Kingdom</td>\n",
       "      <td>I went to the Disneyparis resort, in 1996, wit...</td>\n",
       "      <td>Disneyland_Paris</td>\n",
       "    </tr>\n",
       "  </tbody>\n",
       "</table>\n",
       "</div>"
      ],
      "text/plain": [
       "       Review_ID  Rating Year_Month Reviewer_Location  \\\n",
       "42651    1765031       5    missing    United Kingdom   \n",
       "42652    1659553       5    missing            Canada   \n",
       "42653    1645894       5    missing      South Africa   \n",
       "42654    1618637       4    missing     United States   \n",
       "42655    1536786       4    missing    United Kingdom   \n",
       "\n",
       "                                             Review_Text            Branch  \n",
       "42651  i went to disneyland paris in july 03 and thou...  Disneyland_Paris  \n",
       "42652  2 adults and 1 child of 11 visited Disneyland ...  Disneyland_Paris  \n",
       "42653  My eleven year old daughter and myself went to...  Disneyland_Paris  \n",
       "42654  This hotel, part of the Disneyland Paris compl...  Disneyland_Paris  \n",
       "42655  I went to the Disneyparis resort, in 1996, wit...  Disneyland_Paris  "
      ]
     },
     "execution_count": 4,
     "metadata": {},
     "output_type": "execute_result"
    }
   ],
   "source": [
    "df.tail()"
   ]
  },
  {
   "cell_type": "code",
   "execution_count": 5,
   "id": "5e9e7fb2-283b-4cba-a8e6-103cf5e42248",
   "metadata": {},
   "outputs": [
    {
     "name": "stdout",
     "output_type": "stream",
     "text": [
      "<class 'pandas.core.frame.DataFrame'>\n",
      "RangeIndex: 42656 entries, 0 to 42655\n",
      "Data columns (total 6 columns):\n",
      " #   Column             Non-Null Count  Dtype \n",
      "---  ------             --------------  ----- \n",
      " 0   Review_ID          42656 non-null  int64 \n",
      " 1   Rating             42656 non-null  int64 \n",
      " 2   Year_Month         42656 non-null  object\n",
      " 3   Reviewer_Location  42656 non-null  object\n",
      " 4   Review_Text        42656 non-null  object\n",
      " 5   Branch             42656 non-null  object\n",
      "dtypes: int64(2), object(4)\n",
      "memory usage: 2.0+ MB\n"
     ]
    }
   ],
   "source": [
    "df.info()"
   ]
  },
  {
   "cell_type": "code",
   "execution_count": 6,
   "id": "0cf674cf-710e-4f66-abe4-cf63edd984f2",
   "metadata": {},
   "outputs": [
    {
     "data": {
      "text/plain": [
       "Review_ID            0\n",
       "Rating               0\n",
       "Year_Month           0\n",
       "Reviewer_Location    0\n",
       "Review_Text          0\n",
       "Branch               0\n",
       "dtype: int64"
      ]
     },
     "execution_count": 6,
     "metadata": {},
     "output_type": "execute_result"
    }
   ],
   "source": [
    "df.isnull().sum()"
   ]
  },
  {
   "cell_type": "markdown",
   "id": "4c9a736e-598a-49ac-9650-e27e2f81729c",
   "metadata": {},
   "source": [
    "### Removing Duplicates"
   ]
  },
  {
   "cell_type": "code",
   "execution_count": 7,
   "id": "0380a1ac-de64-4565-8b15-fb6e2416475d",
   "metadata": {},
   "outputs": [],
   "source": [
    "df = df.drop_duplicates(subset=['Review_Text', 'Rating'])"
   ]
  },
  {
   "cell_type": "code",
   "execution_count": 8,
   "id": "55b30b1f-cd1e-4bf9-bb95-b3bd23418380",
   "metadata": {},
   "outputs": [
    {
     "data": {
      "text/plain": [
       "(42633, 6)"
      ]
     },
     "execution_count": 8,
     "metadata": {},
     "output_type": "execute_result"
    }
   ],
   "source": [
    "df.shape"
   ]
  },
  {
   "cell_type": "code",
   "execution_count": 9,
   "id": "b03abd0e-416d-4105-b389-7fe481bdaebf",
   "metadata": {},
   "outputs": [
    {
     "name": "stdout",
     "output_type": "stream",
     "text": [
      "Number of reviews with conflicting ratings: 1\n"
     ]
    }
   ],
   "source": [
    "conflicts = df.groupby('Review_Text')['Rating'].nunique()\n",
    "conflicting_reviews = conflicts[conflicts > 1].index\n",
    "print(\"Number of reviews with conflicting ratings:\", len(conflicting_reviews))"
   ]
  },
  {
   "cell_type": "code",
   "execution_count": 10,
   "id": "5a38d1c2-3a5e-4e6b-ae6e-3cce78b7a8a8",
   "metadata": {},
   "outputs": [],
   "source": [
    "df = df[~df['Review_Text'].isin(conflicting_reviews)]"
   ]
  },
  {
   "cell_type": "code",
   "execution_count": 11,
   "id": "c0703c4c-af03-4c51-b70f-18ca4d8b9cc3",
   "metadata": {},
   "outputs": [
    {
     "data": {
      "text/plain": [
       "(42631, 6)"
      ]
     },
     "execution_count": 11,
     "metadata": {},
     "output_type": "execute_result"
    }
   ],
   "source": [
    "df.shape"
   ]
  },
  {
   "cell_type": "markdown",
   "id": "8804b95f-3486-4344-be86-73dcbe49f90e",
   "metadata": {},
   "source": [
    "### Removing Unnecessary Columns"
   ]
  },
  {
   "cell_type": "code",
   "execution_count": 12,
   "id": "e47beda0-6f96-4144-812a-9480ede9aab5",
   "metadata": {},
   "outputs": [],
   "source": [
    "df = df.drop('Review_ID', axis=1)"
   ]
  },
  {
   "cell_type": "code",
   "execution_count": 13,
   "id": "c8c3dcf0-6f97-4a7c-8bc0-4753f3e669f3",
   "metadata": {},
   "outputs": [],
   "source": [
    "df = df.drop('Reviewer_Location', axis=1)"
   ]
  },
  {
   "cell_type": "markdown",
   "id": "3c762a72-3e36-4749-9758-3aff8160fdbf",
   "metadata": {},
   "source": [
    "### Normalizing \"review_text\" column"
   ]
  },
  {
   "cell_type": "code",
   "execution_count": 14,
   "id": "c7183909-b1e1-4f17-aee2-0d9d04e6638a",
   "metadata": {},
   "outputs": [],
   "source": [
    "def normalize_review(text):\n",
    "   \n",
    "    stop_words = set(stopwords.words('english'))\n",
    "    lemmatizer = WordNetLemmatizer()\n",
    "\n",
    "    if not isinstance(text, str):\n",
    "        return None\n",
    "\n",
    "    # Converting all reviews into Lowercase\n",
    "    text = text.lower()\n",
    "\n",
    "    # Removing HTML tags\n",
    "    text = BeautifulSoup(text, \"html.parser\").get_text()\n",
    "\n",
    "    # Removing URls\n",
    "    text = re.sub(r\"http\\S+|www\\S+|https\\S+\", \"\", text)\n",
    "\n",
    "    # Removing punctuation and special characters\n",
    "    text = text.translate(str.maketrans(\"\", \"\", string.punctuation))\n",
    "\n",
    "    # Removing Emojis\n",
    "    text = text.encode(\"ascii\",\"ignore\").decode(\"ascii\")\n",
    "\n",
    "    # Tokenizing the reveiews\n",
    "    tokens = text.split()\n",
    "\n",
    "    # Removing stopwords\n",
    "    tokens = [word for word in tokens if word not in stop_words]\n",
    "\n",
    "    # Lemmatization\n",
    "    tokens = [lemmatizer.lemmatize(word) for word in tokens]\n",
    "\n",
    "    # Filtering Too short and long reviews\n",
    "    if len(tokens) < 3 or len(tokens) > 100: # the longest review has a word count of 970. but the average, median, Q3 of wordcount was 66,52,77 respectievlely. \n",
    "        return None\n",
    "\n",
    "    return \" \".join(tokens)"
   ]
  },
  {
   "cell_type": "code",
   "execution_count": 15,
   "id": "db70e0d6-624f-49ee-a512-214d23dcb2a2",
   "metadata": {},
   "outputs": [],
   "source": [
    "df['cleaned_review'] = df['Review_Text'].apply(normalize_review)"
   ]
  },
  {
   "cell_type": "code",
   "execution_count": 16,
   "id": "da538d72-6941-47ba-84b7-5b0e57bf4b54",
   "metadata": {},
   "outputs": [],
   "source": [
    "df = df.dropna(subset=['cleaned_review'])"
   ]
  },
  {
   "cell_type": "code",
   "execution_count": 17,
   "id": "1d4f6fe8-b52f-4714-a46e-0082c6b0ff15",
   "metadata": {},
   "outputs": [
    {
     "data": {
      "text/html": [
       "<div>\n",
       "<style scoped>\n",
       "    .dataframe tbody tr th:only-of-type {\n",
       "        vertical-align: middle;\n",
       "    }\n",
       "\n",
       "    .dataframe tbody tr th {\n",
       "        vertical-align: top;\n",
       "    }\n",
       "\n",
       "    .dataframe thead th {\n",
       "        text-align: right;\n",
       "    }\n",
       "</style>\n",
       "<table border=\"1\" class=\"dataframe\">\n",
       "  <thead>\n",
       "    <tr style=\"text-align: right;\">\n",
       "      <th></th>\n",
       "      <th>Rating</th>\n",
       "      <th>Year_Month</th>\n",
       "      <th>Review_Text</th>\n",
       "      <th>Branch</th>\n",
       "      <th>cleaned_review</th>\n",
       "    </tr>\n",
       "  </thead>\n",
       "  <tbody>\n",
       "    <tr>\n",
       "      <th>0</th>\n",
       "      <td>4</td>\n",
       "      <td>2019-4</td>\n",
       "      <td>If you've ever been to Disneyland anywhere you...</td>\n",
       "      <td>Disneyland_HongKong</td>\n",
       "      <td>youve ever disneyland anywhere youll find disn...</td>\n",
       "    </tr>\n",
       "    <tr>\n",
       "      <th>2</th>\n",
       "      <td>4</td>\n",
       "      <td>2019-4</td>\n",
       "      <td>Thanks God it wasn   t too hot or too humid wh...</td>\n",
       "      <td>Disneyland_HongKong</td>\n",
       "      <td>thanks god hot humid visiting park otherwise w...</td>\n",
       "    </tr>\n",
       "    <tr>\n",
       "      <th>3</th>\n",
       "      <td>4</td>\n",
       "      <td>2019-4</td>\n",
       "      <td>HK Disneyland is a great compact park. Unfortu...</td>\n",
       "      <td>Disneyland_HongKong</td>\n",
       "      <td>hk disneyland great compact park unfortunately...</td>\n",
       "    </tr>\n",
       "    <tr>\n",
       "      <th>4</th>\n",
       "      <td>4</td>\n",
       "      <td>2019-4</td>\n",
       "      <td>the location is not in the city, took around 1...</td>\n",
       "      <td>Disneyland_HongKong</td>\n",
       "      <td>location city took around 1 hour kowlon kid li...</td>\n",
       "    </tr>\n",
       "    <tr>\n",
       "      <th>5</th>\n",
       "      <td>3</td>\n",
       "      <td>2019-4</td>\n",
       "      <td>Have been to Disney World, Disneyland Anaheim ...</td>\n",
       "      <td>Disneyland_HongKong</td>\n",
       "      <td>disney world disneyland anaheim tokyo disneyla...</td>\n",
       "    </tr>\n",
       "    <tr>\n",
       "      <th>...</th>\n",
       "      <td>...</td>\n",
       "      <td>...</td>\n",
       "      <td>...</td>\n",
       "      <td>...</td>\n",
       "      <td>...</td>\n",
       "    </tr>\n",
       "    <tr>\n",
       "      <th>42651</th>\n",
       "      <td>5</td>\n",
       "      <td>missing</td>\n",
       "      <td>i went to disneyland paris in july 03 and thou...</td>\n",
       "      <td>Disneyland_Paris</td>\n",
       "      <td>went disneyland paris july 03 thought brillian...</td>\n",
       "    </tr>\n",
       "    <tr>\n",
       "      <th>42652</th>\n",
       "      <td>5</td>\n",
       "      <td>missing</td>\n",
       "      <td>2 adults and 1 child of 11 visited Disneyland ...</td>\n",
       "      <td>Disneyland_Paris</td>\n",
       "      <td>2 adult 1 child 11 visited disneyland paris be...</td>\n",
       "    </tr>\n",
       "    <tr>\n",
       "      <th>42653</th>\n",
       "      <td>5</td>\n",
       "      <td>missing</td>\n",
       "      <td>My eleven year old daughter and myself went to...</td>\n",
       "      <td>Disneyland_Paris</td>\n",
       "      <td>eleven year old daughter went visit son london...</td>\n",
       "    </tr>\n",
       "    <tr>\n",
       "      <th>42654</th>\n",
       "      <td>4</td>\n",
       "      <td>missing</td>\n",
       "      <td>This hotel, part of the Disneyland Paris compl...</td>\n",
       "      <td>Disneyland_Paris</td>\n",
       "      <td>hotel part disneyland paris complex wonderful ...</td>\n",
       "    </tr>\n",
       "    <tr>\n",
       "      <th>42655</th>\n",
       "      <td>4</td>\n",
       "      <td>missing</td>\n",
       "      <td>I went to the Disneyparis resort, in 1996, wit...</td>\n",
       "      <td>Disneyland_Paris</td>\n",
       "      <td>went disneyparis resort 1996 small child minut...</td>\n",
       "    </tr>\n",
       "  </tbody>\n",
       "</table>\n",
       "<p>34987 rows × 5 columns</p>\n",
       "</div>"
      ],
      "text/plain": [
       "       Rating Year_Month                                        Review_Text  \\\n",
       "0           4     2019-4  If you've ever been to Disneyland anywhere you...   \n",
       "2           4     2019-4  Thanks God it wasn   t too hot or too humid wh...   \n",
       "3           4     2019-4  HK Disneyland is a great compact park. Unfortu...   \n",
       "4           4     2019-4  the location is not in the city, took around 1...   \n",
       "5           3     2019-4  Have been to Disney World, Disneyland Anaheim ...   \n",
       "...       ...        ...                                                ...   \n",
       "42651       5    missing  i went to disneyland paris in july 03 and thou...   \n",
       "42652       5    missing  2 adults and 1 child of 11 visited Disneyland ...   \n",
       "42653       5    missing  My eleven year old daughter and myself went to...   \n",
       "42654       4    missing  This hotel, part of the Disneyland Paris compl...   \n",
       "42655       4    missing  I went to the Disneyparis resort, in 1996, wit...   \n",
       "\n",
       "                    Branch                                     cleaned_review  \n",
       "0      Disneyland_HongKong  youve ever disneyland anywhere youll find disn...  \n",
       "2      Disneyland_HongKong  thanks god hot humid visiting park otherwise w...  \n",
       "3      Disneyland_HongKong  hk disneyland great compact park unfortunately...  \n",
       "4      Disneyland_HongKong  location city took around 1 hour kowlon kid li...  \n",
       "5      Disneyland_HongKong  disney world disneyland anaheim tokyo disneyla...  \n",
       "...                    ...                                                ...  \n",
       "42651     Disneyland_Paris  went disneyland paris july 03 thought brillian...  \n",
       "42652     Disneyland_Paris  2 adult 1 child 11 visited disneyland paris be...  \n",
       "42653     Disneyland_Paris  eleven year old daughter went visit son london...  \n",
       "42654     Disneyland_Paris  hotel part disneyland paris complex wonderful ...  \n",
       "42655     Disneyland_Paris  went disneyparis resort 1996 small child minut...  \n",
       "\n",
       "[34987 rows x 5 columns]"
      ]
     },
     "execution_count": 17,
     "metadata": {},
     "output_type": "execute_result"
    }
   ],
   "source": [
    "df"
   ]
  },
  {
   "cell_type": "code",
   "execution_count": 18,
   "id": "fad317d2-ad15-4789-bdd3-185081623eca",
   "metadata": {},
   "outputs": [
    {
     "data": {
      "text/plain": [
       "(34987, 5)"
      ]
     },
     "execution_count": 18,
     "metadata": {},
     "output_type": "execute_result"
    }
   ],
   "source": [
    "df.shape"
   ]
  },
  {
   "cell_type": "markdown",
   "id": "c909905d-f38d-44d0-b34a-eb2f72cd31d0",
   "metadata": {},
   "source": [
    "### Visualization"
   ]
  },
  {
   "cell_type": "code",
   "execution_count": 19,
   "id": "9e13080a-1ba7-477b-9f33-4821dca41539",
   "metadata": {},
   "outputs": [
    {
     "name": "stderr",
     "output_type": "stream",
     "text": [
      "C:\\Users\\joelk\\AppData\\Local\\Temp\\ipykernel_15884\\3511575154.py:2: FutureWarning: \n",
      "\n",
      "Passing `palette` without assigning `hue` is deprecated and will be removed in v0.14.0. Assign the `x` variable to `hue` and set `legend=False` for the same effect.\n",
      "\n",
      "  sns.countplot(x='Rating', data=df, palette='viridis', order=sorted(df['Rating'].unique()))\n"
     ]
    },
    {
     "data": {
      "image/png": "[encoded data removed]",
      "text/plain": [
       "<Figure size 500x400 with 1 Axes>"
      ]
     },
     "metadata": {},
     "output_type": "display_data"
    }
   ],
   "source": [
    "plt.figure(figsize=(5,4))\n",
    "sns.countplot(x='Rating', data=df, palette='viridis', order=sorted(df['Rating'].unique()))\n",
    "plt.title(\"Rating Distribution\", fontsize=16, pad=20)\n",
    "plt.xlabel(\"Rating\", fontsize=12)\n",
    "plt.ylabel(\"Number of Reviews\", fontsize=12)\n",
    "plt.show()"
   ]
  },
  {
   "cell_type": "code",
   "execution_count": 20,
   "id": "3c4a6ddf-9e30-4b24-b26b-8175d522eb3a",
   "metadata": {},
   "outputs": [],
   "source": [
    "df['word_count'] = df['cleaned_review'].apply(lambda x: len(x.split()))"
   ]
  },
  {
   "cell_type": "code",
   "execution_count": 21,
   "id": "e2bd25dd-3e25-42e5-93c8-53947c79087e",
   "metadata": {},
   "outputs": [
    {
     "data": {
      "text/html": [
       "<div>\n",
       "<style scoped>\n",
       "    .dataframe tbody tr th:only-of-type {\n",
       "        vertical-align: middle;\n",
       "    }\n",
       "\n",
       "    .dataframe tbody tr th {\n",
       "        vertical-align: top;\n",
       "    }\n",
       "\n",
       "    .dataframe thead th {\n",
       "        text-align: right;\n",
       "    }\n",
       "</style>\n",
       "<table border=\"1\" class=\"dataframe\">\n",
       "  <thead>\n",
       "    <tr style=\"text-align: right;\">\n",
       "      <th></th>\n",
       "      <th>Rating</th>\n",
       "      <th>Year_Month</th>\n",
       "      <th>Review_Text</th>\n",
       "      <th>Branch</th>\n",
       "      <th>cleaned_review</th>\n",
       "      <th>word_count</th>\n",
       "    </tr>\n",
       "  </thead>\n",
       "  <tbody>\n",
       "    <tr>\n",
       "      <th>0</th>\n",
       "      <td>4</td>\n",
       "      <td>2019-4</td>\n",
       "      <td>If you've ever been to Disneyland anywhere you...</td>\n",
       "      <td>Disneyland_HongKong</td>\n",
       "      <td>youve ever disneyland anywhere youll find disn...</td>\n",
       "      <td>33</td>\n",
       "    </tr>\n",
       "    <tr>\n",
       "      <th>2</th>\n",
       "      <td>4</td>\n",
       "      <td>2019-4</td>\n",
       "      <td>Thanks God it wasn   t too hot or too humid wh...</td>\n",
       "      <td>Disneyland_HongKong</td>\n",
       "      <td>thanks god hot humid visiting park otherwise w...</td>\n",
       "      <td>82</td>\n",
       "    </tr>\n",
       "    <tr>\n",
       "      <th>3</th>\n",
       "      <td>4</td>\n",
       "      <td>2019-4</td>\n",
       "      <td>HK Disneyland is a great compact park. Unfortu...</td>\n",
       "      <td>Disneyland_HongKong</td>\n",
       "      <td>hk disneyland great compact park unfortunately...</td>\n",
       "      <td>46</td>\n",
       "    </tr>\n",
       "    <tr>\n",
       "      <th>4</th>\n",
       "      <td>4</td>\n",
       "      <td>2019-4</td>\n",
       "      <td>the location is not in the city, took around 1...</td>\n",
       "      <td>Disneyland_HongKong</td>\n",
       "      <td>location city took around 1 hour kowlon kid li...</td>\n",
       "      <td>18</td>\n",
       "    </tr>\n",
       "    <tr>\n",
       "      <th>5</th>\n",
       "      <td>3</td>\n",
       "      <td>2019-4</td>\n",
       "      <td>Have been to Disney World, Disneyland Anaheim ...</td>\n",
       "      <td>Disneyland_HongKong</td>\n",
       "      <td>disney world disneyland anaheim tokyo disneyla...</td>\n",
       "      <td>87</td>\n",
       "    </tr>\n",
       "    <tr>\n",
       "      <th>...</th>\n",
       "      <td>...</td>\n",
       "      <td>...</td>\n",
       "      <td>...</td>\n",
       "      <td>...</td>\n",
       "      <td>...</td>\n",
       "      <td>...</td>\n",
       "    </tr>\n",
       "    <tr>\n",
       "      <th>42651</th>\n",
       "      <td>5</td>\n",
       "      <td>missing</td>\n",
       "      <td>i went to disneyland paris in july 03 and thou...</td>\n",
       "      <td>Disneyland_Paris</td>\n",
       "      <td>went disneyland paris july 03 thought brillian...</td>\n",
       "      <td>84</td>\n",
       "    </tr>\n",
       "    <tr>\n",
       "      <th>42652</th>\n",
       "      <td>5</td>\n",
       "      <td>missing</td>\n",
       "      <td>2 adults and 1 child of 11 visited Disneyland ...</td>\n",
       "      <td>Disneyland_Paris</td>\n",
       "      <td>2 adult 1 child 11 visited disneyland paris be...</td>\n",
       "      <td>94</td>\n",
       "    </tr>\n",
       "    <tr>\n",
       "      <th>42653</th>\n",
       "      <td>5</td>\n",
       "      <td>missing</td>\n",
       "      <td>My eleven year old daughter and myself went to...</td>\n",
       "      <td>Disneyland_Paris</td>\n",
       "      <td>eleven year old daughter went visit son london...</td>\n",
       "      <td>54</td>\n",
       "    </tr>\n",
       "    <tr>\n",
       "      <th>42654</th>\n",
       "      <td>4</td>\n",
       "      <td>missing</td>\n",
       "      <td>This hotel, part of the Disneyland Paris compl...</td>\n",
       "      <td>Disneyland_Paris</td>\n",
       "      <td>hotel part disneyland paris complex wonderful ...</td>\n",
       "      <td>62</td>\n",
       "    </tr>\n",
       "    <tr>\n",
       "      <th>42655</th>\n",
       "      <td>4</td>\n",
       "      <td>missing</td>\n",
       "      <td>I went to the Disneyparis resort, in 1996, wit...</td>\n",
       "      <td>Disneyland_Paris</td>\n",
       "      <td>went disneyparis resort 1996 small child minut...</td>\n",
       "      <td>100</td>\n",
       "    </tr>\n",
       "  </tbody>\n",
       "</table>\n",
       "<p>34987 rows × 6 columns</p>\n",
       "</div>"
      ],
      "text/plain": [
       "       Rating Year_Month                                        Review_Text  \\\n",
       "0           4     2019-4  If you've ever been to Disneyland anywhere you...   \n",
       "2           4     2019-4  Thanks God it wasn   t too hot or too humid wh...   \n",
       "3           4     2019-4  HK Disneyland is a great compact park. Unfortu...   \n",
       "4           4     2019-4  the location is not in the city, took around 1...   \n",
       "5           3     2019-4  Have been to Disney World, Disneyland Anaheim ...   \n",
       "...       ...        ...                                                ...   \n",
       "42651       5    missing  i went to disneyland paris in july 03 and thou...   \n",
       "42652       5    missing  2 adults and 1 child of 11 visited Disneyland ...   \n",
       "42653       5    missing  My eleven year old daughter and myself went to...   \n",
       "42654       4    missing  This hotel, part of the Disneyland Paris compl...   \n",
       "42655       4    missing  I went to the Disneyparis resort, in 1996, wit...   \n",
       "\n",
       "                    Branch                                     cleaned_review  \\\n",
       "0      Disneyland_HongKong  youve ever disneyland anywhere youll find disn...   \n",
       "2      Disneyland_HongKong  thanks god hot humid visiting park otherwise w...   \n",
       "3      Disneyland_HongKong  hk disneyland great compact park unfortunately...   \n",
       "4      Disneyland_HongKong  location city took around 1 hour kowlon kid li...   \n",
       "5      Disneyland_HongKong  disney world disneyland anaheim tokyo disneyla...   \n",
       "...                    ...                                                ...   \n",
       "42651     Disneyland_Paris  went disneyland paris july 03 thought brillian...   \n",
       "42652     Disneyland_Paris  2 adult 1 child 11 visited disneyland paris be...   \n",
       "42653     Disneyland_Paris  eleven year old daughter went visit son london...   \n",
       "42654     Disneyland_Paris  hotel part disneyland paris complex wonderful ...   \n",
       "42655     Disneyland_Paris  went disneyparis resort 1996 small child minut...   \n",
       "\n",
       "       word_count  \n",
       "0              33  \n",
       "2              82  \n",
       "3              46  \n",
       "4              18  \n",
       "5              87  \n",
       "...           ...  \n",
       "42651          84  \n",
       "42652          94  \n",
       "42653          54  \n",
       "42654          62  \n",
       "42655         100  \n",
       "\n",
       "[34987 rows x 6 columns]"
      ]
     },
     "execution_count": 21,
     "metadata": {},
     "output_type": "execute_result"
    }
   ],
   "source": [
    "df"
   ]
  },
  {
   "cell_type": "code",
   "execution_count": 22,
   "id": "8ee33ae3-983a-4fbb-8b1d-40dab524e96e",
   "metadata": {},
   "outputs": [
    {
     "data": {
      "text/plain": [
       "count    34987.000000\n",
       "mean        39.876040\n",
       "std         23.706727\n",
       "min          3.000000\n",
       "25%         21.000000\n",
       "50%         34.000000\n",
       "75%         55.000000\n",
       "max        100.000000\n",
       "Name: word_count, dtype: float64"
      ]
     },
     "execution_count": 22,
     "metadata": {},
     "output_type": "execute_result"
    }
   ],
   "source": [
    "df['word_count'].describe()"
   ]
  },
  {
   "cell_type": "code",
   "execution_count": 23,
   "id": "4845254e-e8dc-4d57-97d2-bbf575e33f26",
   "metadata": {},
   "outputs": [
    {
     "data": {
      "image/png": "[encoded data removed]",
      "text/plain": [
       "<Figure size 700x400 with 1 Axes>"
      ]
     },
     "metadata": {},
     "output_type": "display_data"
    }
   ],
   "source": [
    "plt.figure(figsize=(7,4))\n",
    "sns.histplot(data=df, x=\"word_count\", hue=\"Rating\", bins=30, multiple=\"stack\", palette=\"viridis\")\n",
    "plt.title(\"Histogram of Word Counts by Rating\", fontsize=16, pad=20)\n",
    "plt.xlabel(\"Number of Words\")\n",
    "plt.ylabel(\"Count of Reviews\")\n",
    "plt.show()"
   ]
  },
  {
   "cell_type": "code",
   "execution_count": 24,
   "id": "d9a34f45-f141-4905-bd4b-70938f9decda",
   "metadata": {},
   "outputs": [
    {
     "name": "stdout",
     "output_type": "stream",
     "text": [
      "\n",
      "======================= Rating: 1 =======================\n",
      "\n",
      "1. My partner recently stayed with you, as a teacher on a school trip. He spoke highly of your service, and the attractions. Whilst his stay he bought me a mikey and minnie photo frame as a gift to bring home. Though when he got it home, I discovered the shocking quality of this product. The material was peeling of the back and stand, the paint work looks like it's been done by a toddler with a crayon, and the general quality of the product is just disgraceful.I would advise in future you review the quality of the products for sale in your resort shops, to avoid further disappointment. Your shabby photo frame ruined what was supposed to be a romantic gesture. Well done disney. \n",
      "\n",
      "2. After visiting all of the Disneylands and worlds around the globe we feel we are more than qualified to write a review for this particular one.It is definitely the worst of them all. Longest lines we have ever seen (on the rides that were open). Not many staff members around. Lots of people were having problems using the FastPass machines and there was no one in sight to help. This happened on more than one occasion.I definitely agree with another review I saw here. Most visitors to this park have bad queue etiquette! Pushing you in the back, pushing in, standing way too close.... Argh! And yes smoking!Disneyland Tokyo was by far the best Disneyland of them all. If you go to one make it that one.If you come to Paris don't waste a day here. After 6  hours at the park we got into 1 ride and a theatre 'show'.Stand in line at the Louvre or Eiffel tower, much better reward.\n",
      "\n",
      "3. It is ridiculus to wait 30 minutes on the queu and ride for just 1 minute. Would not prefer to come again. Tivoli is much better and nicer place to be. Recommended for people enjoying waiting. Utku\n",
      "\n",
      "4. For the price we found the Park and rides very disappointing. We travelled over the Feb '12 Half Term. The queues were long; several of the rides were closed due to technical faults (Buzz Light Year, Its a Small World, etc) and the food within the Park is astronomically priced (3 Euros for a tiny bag of chips!).\n",
      "\n",
      "5. This whole place feels like an homage to the 1990's. The parade was basic; the rides broke frequently or were already shut for refurbs. We waited 35 minutes in an allegedly fastpass queue because they were allowing people regardless of timing to join (big thunder mountain, the only  big  ride of the day that was open). Disney studios was better but is tiny. Most rides don't have fast passes, so we waited for 2 hours to watch the ride break in front of us! Restaurants were either shut or full or fried food. Mickeys cafe was basic food but again, we had a booking and queued for 30 minutes. Valentine, our  waitress  was rude, forgot things and mixed up the order completely. Hotel (Santa fe) was basic. Again queue for breakfast, no one pays attention to the time slots. Best thing here was planet Hollywood. And that's saying something. Whole place needs some investment and magic putting back in.\n",
      "\n",
      "\n",
      "======================= Rating: 2 =======================\n",
      "\n",
      "1. The park is small and some great rides closed in the limited number of rides that they have. The biggest thing missing in the park is the not so friendly staff missing the expected Disney smile and courtesy be it the ride operators or folks in the restaurants. Not recommended if you are a big fan of the  Happiest place on Earth  way of functioning of US Disney parks which they take literally \n",
      "\n",
      "2. Disney   happy ever afters, smile, magic, laughter.......not at Disneyland Paris.Staff are ignorant, rude and haven't a clue how to smile. We visited both parks over two days, queues as you would expect were long, fast pass was a joke, you had to queue for the fast pass ticket, then queue again to ride, we didn't bother with them in the end and just queued anyway. Food was ok. Bit expensive, but so is the rest of the Paris area.No characters walking round, parade was good but very short! It was missing something!! The Disney magic!!! Like ourselves if you have visited Disney in Florida, then don't go to Paris. No comparison at all. You will be disappointed! \n",
      "\n",
      "3. Disneyland is my favorite vacation but it's way to busy in October. A friend I was with during this trip said it was busier than their summer visit! Lots of rides closed down for temporary repair when had waited in line for 1  hrs. Very frustrating!\n",
      "\n",
      "4. Cafe Orleans nice Lobster salad GONE! choices getting worse.let's review a few other dining deaths because they are actually good and Disney does not like to spend money on good food:Lobster Salad...............................Cafe OrleansFrito Misto.................................... Alfresco TerraceCinnomon Rolls.....................,.......Disneyland BakeryCinnomon Roll French Toast..........Carnation CafeMahi mahi Fish Tacos..................Tangaroa Terrace (cheap small shrimp tacos)Nice Breakfast...............................River Belle Terrace now an expensive mediocre restarauntShort Rib Sandwhich ....................Carthay CircleChili Fries with Sour Cream............Smokejumpers GrillBLT flatbread...................................now the Red Rose TaverneFried Green Tomatoes.....................Hungry Bear (you can get them for 5X the price at BB)I'm so sick of Disneyland taking away the good things and replacing with obviously cheaper dining options. If you want us to spend our dollars in the park improve the dining!!!!\n",
      "\n",
      "5. Our large party (8x adults & 6x children) travelled to Disneyland Paris on 26th December 2015 and spent two days in both of the theme parks.  We purchased our tickets ahead of time in the UK at a cost of   95 per person which is...More\n",
      "\n",
      "\n",
      "======================= Rating: 3 =======================\n",
      "\n",
      "1. We had 4 lovely days in the park, October seems to be a great time to go & quite quiet. The lines werent too long especially during the week. My big complaint was the staff, I have never seen so many bored and disinterested staff. This is meant to be  the happiest place on earth  so why not smile eh!!!!! Our daughter didnt care or notice but it anoyed us alot. Perhaps Disney should start some customer service training & quick!\n",
      "\n",
      "2. Sure it has Disney on the label but it totally lacks that Florida Magic.More like a amusement park.Possibly the most expensive outlets I have ever experienced. 1 plain hotdog, 1 cheese hotdog, 1 chicken nuggets, 2 large fries, 1 white coffee, 1 sprite     25.\n",
      "\n",
      "3. Gate prices seem to keep going up and up. Can't really afford to go more than once every couple of years. The park is always crowded and the lines take forever. And now they even charge for the fast pass lane. I thought it used to be free. Anyway, it's still the happiest place on earth. Except when it's raining and you have to pay $20 for a poncho. Really? Come on. \n",
      "\n",
      "4. Disney was as we expected. Crowded and very overpriced. Use Fastpass whenever possible. Don't eat in the park. The food is awful and overpriced. We found Tortilla Joe's Taqueria in Downtown Disney. They have huge burritos that we shared for two people. My kids loved the placeand it was better and cheaper than eating in the park.\n",
      "\n",
      "5. the rides are old and tired, couldn't believe they're still showing Michael Jackson's Captain Eo! unfortunately they can get away with this as long as kids still want to go to Disney over any other place on Earth. Very disappointing that children over 9 are charged adult fares. \n",
      "\n",
      "\n",
      "======================= Rating: 4 =======================\n",
      "\n",
      "1. Always a good time at Disneyland, even with a few hiccups this year because of 2.5 hour or more waits for the rides in the hot sun. Should have more shaded queues and perhaps consider water ice cream stands in the lines for the super popular rides. Same for the California Adventure side. Wasn't too happy about all the ride closures and breakdowns though. \n",
      "\n",
      "2. I've been to disney in Hongkong and california.They were fantastic with beautiful scenery and show, but it's still kind of similar with the other disney in the world except the one in orlando. the on in Orlando is the biggest one in the world.\n",
      "\n",
      "3. My husband had a medical emergency on our first day at the park and the staff were fantastic and had us in an ambulance in no time at all.  Unfortunately we had to cut our stay short so didn't get to experience the park.\n",
      "\n",
      "4. Didn't stay at the resort, just went for the day when on a 4 day Honeymoon in Paris. If you have a ParisVisite travel pass, you get 20% of the entrance fee for a 1 day 2 park pass, so cost us 50 euros each to get in. Went on pretty much all the rides (excluding the little kids stuff) and Space Mountain was the best (went on 3 times!). Tower of Terror is also very good, and Buzz Lightyear is good fun (even for a 28 year old!). Avoided eating there, by taking baguettes with us, and glad we did, menus in the park all looked expensive and not half as good as most little Parisian restaurants. Train from centre of Paris takes about 40 mins and literally takes you to the front door.Have been to Disney in Florida a couple of times, and it is far better, but this was still good fun.\n",
      "\n",
      "5. We enjoyed the experience of Disneyland Hong Kong but found it catered more to our 5 year old more than our teenagers. It seems to be more suited for younger children rather than EuroDisney which we found better for older kids and adults. Definitely worth checking out if you have a day to spare and haven't been to Disneyland before. Fireworks when the park closes were lovely but packed and I'd suggest if you want to buy things from the stores to do it earlier in the day as it's crowded and crazy at the end!\n",
      "\n",
      "\n",
      "======================= Rating: 5 =======================\n",
      "\n",
      "1. Great as ever.  Really enjoyable for all ages.  Not sure the  extra magic  hours is worthwhile as nothing much is open early, but still a great day out (or two or three)!\n",
      "\n",
      "2. We where lucky enough to come Los Angeles for a family holiday. Disneyland was the focus. As the dad I not keen on queueing, crowds and noise so as you can imagine I was not as excited as the rest of the family. Disneyland is awesome. We can at a great time of year (cast members call it a ghost town). As a Kiwi I found the food to be a good price as I   m used to high priced food back home. The crowds where fine. You really have to buy a fast past, by far the best money we spent. The cast members (staff) where out standing. The place was spotless. I watched rubbish and it would only be on the ground for a matter of minutes before being pick up. We went for four days, two at Disneyland and two at Disney Adventures. This was great as we felt we saw most of what both had to offer. Ages of my kids11,10 and 8If you come, hope you have as much fun as we didCheersKiwi in Los Angeles \n",
      "\n",
      "3. Long lines. Very expensive. Kids love this place along with adults who act like kids. Fun for the whole family.\n",
      "\n",
      "4. This is still just so nice and classic a park. It was my third visit, although the first in about 9 years. The Materhorn is updated with a better set of special effects inside. The Space Mountain here is the smoothest and in some ways the best, with its side by side seating. The Indiana Jones ride is unique, the closest thing Disney has to this is Dinosaur in Animal Kingdom in Florida. One of the best things is the Electric Light Parade which has been brought back this year in its classic, original form and we found this very fun and nostalgic. Even my 19 year old son thought it was great and doesn't really have the same connection to it as my wife and I do. We did the Aladin's Oasis lunch tie in which gave us priority viewing near It's A Small World, which I thought was worth it.\n",
      "\n",
      "5. One can spend 2 3 days and not see it all.The best is to avoid kids holiday days , weekends and holidays, if possable.I found that signs and directions in the park are very poor, even when holding a map I had to ask for directions.There is not enough personal to walk around and assist people.The lines are VERY long and the express line does not help enough.In overall great intertaiment.\n",
      "\n"
     ]
    }
   ],
   "source": [
    "for rating in sorted(df[\"Rating\"].unique()):\n",
    "    print(f\"\\n======================= Rating: {rating} =======================\\n\")\n",
    "    sample_reviews = df[df[\"Rating\"] == rating][\"Review_Text\"].sample(n=5, random_state=42)  \n",
    "    for i, review in enumerate(sample_reviews, 1):\n",
    "        print(f\"{i}. {review}\\n\")"
   ]
  },
  {
   "cell_type": "code",
   "execution_count": 25,
   "id": "cd783926-9798-4f70-9a2f-05e9aef8ea0a",
   "metadata": {},
   "outputs": [
    {
     "data": {
      "text/plain": [
       "Rating\n",
       "5    20045\n",
       "4     8673\n",
       "3     3873\n",
       "2     1432\n",
       "1      964\n",
       "Name: count, dtype: int64"
      ]
     },
     "execution_count": 25,
     "metadata": {},
     "output_type": "execute_result"
    }
   ],
   "source": [
    "df['Rating'].value_counts()"
   ]
  },
  {
   "cell_type": "markdown",
   "id": "23aaf6ca-8165-4e3d-a3ec-e28f3d4dca91",
   "metadata": {},
   "source": [
    "### Resampling Ratings with samples lesser than 2000"
   ]
  },
  {
   "cell_type": "code",
   "execution_count": 26,
   "id": "e76ebba2-a452-4baa-b097-2148b8664c5e",
   "metadata": {},
   "outputs": [
    {
     "name": "stdout",
     "output_type": "stream",
     "text": [
      "Rating\n",
      "1     2000\n",
      "2     2000\n",
      "3     3873\n",
      "4     8673\n",
      "5    20045\n",
      "Name: count, dtype: int64\n"
     ]
    }
   ],
   "source": [
    "from sklearn.utils import resample\n",
    "\n",
    "# target min samples per class\n",
    "min_samples = 2000  \n",
    "\n",
    "df_imbalanced_sampled = df.copy()\n",
    "new_dfs = []\n",
    "\n",
    "for rating, group in df_imbalanced_sampled.groupby(\"Rating\"):\n",
    "    if len(group) < min_samples:\n",
    "        # Upsample minority class\n",
    "        group = resample(group, \n",
    "                         replace=True, \n",
    "                         n_samples=min_samples, \n",
    "                         random_state=42)\n",
    "    new_dfs.append(group)\n",
    "\n",
    "df_imbalanced_sampled = pd.concat(new_dfs)\n",
    "print(df_imbalanced_sampled['Rating'].value_counts().sort_index())\n"
   ]
  },
  {
   "cell_type": "code",
   "execution_count": 27,
   "id": "90e0a8e2-af19-406b-8ec8-8ecf245ed53c",
   "metadata": {},
   "outputs": [
    {
     "name": "stderr",
     "output_type": "stream",
     "text": [
      "C:\\Users\\joelk\\AppData\\Local\\Temp\\ipykernel_15884\\2529375585.py:2: FutureWarning: \n",
      "\n",
      "Passing `palette` without assigning `hue` is deprecated and will be removed in v0.14.0. Assign the `x` variable to `hue` and set `legend=False` for the same effect.\n",
      "\n",
      "  sns.countplot(x='Rating', data=df_imbalanced_sampled, palette='viridis', order=sorted(df_imbalanced_sampled['Rating'].unique()))\n"
     ]
    },
    {
     "data": {
      "image/png": "[encoded data removed]",
      "text/plain": [
       "<Figure size 500x400 with 1 Axes>"
      ]
     },
     "metadata": {},
     "output_type": "display_data"
    }
   ],
   "source": [
    "plt.figure(figsize=(5,4))\n",
    "sns.countplot(x='Rating', data=df_imbalanced_sampled, palette='viridis', order=sorted(df_imbalanced_sampled['Rating'].unique()))\n",
    "plt.title(\"Rating Distribution after Resampling\", fontsize=16, pad=20)\n",
    "plt.xlabel(\"Rating\", fontsize=12)\n",
    "plt.ylabel(\"Number of Reviews\", fontsize=12)\n",
    "plt.show()"
   ]
  },
  {
   "cell_type": "markdown",
   "id": "361e522f-ff31-4e22-84ae-0821855472e4",
   "metadata": {},
   "source": [
    "### Train Test Splitting"
   ]
  },
  {
   "cell_type": "code",
   "execution_count": 28,
   "id": "cae1cd2c-bea1-425f-8f44-5ca8988818f9",
   "metadata": {},
   "outputs": [],
   "source": [
    "from sklearn.model_selection import train_test_split"
   ]
  },
  {
   "cell_type": "code",
   "execution_count": 29,
   "id": "c23fc57c-05d2-4368-8bc5-dbec8ae42c58",
   "metadata": {},
   "outputs": [],
   "source": [
    "x = df_imbalanced_sampled['cleaned_review']\n",
    "y = df_imbalanced_sampled['Rating']\n",
    "\n",
    "x_train, x_test, y_train, y_test = train_test_split(x, y, test_size=0.2, stratify=y, random_state=42)"
   ]
  },
  {
   "cell_type": "code",
   "execution_count": 30,
   "id": "fd0d09f5-493a-41d0-8eb7-2ab81e3eb2fc",
   "metadata": {},
   "outputs": [
    {
     "name": "stdout",
     "output_type": "stream",
     "text": [
      "Training set class distribution:\n",
      "Rating\n",
      "5    16036\n",
      "4     6938\n",
      "3     3098\n",
      "1     1600\n",
      "2     1600\n",
      "Name: count, dtype: int64\n"
     ]
    }
   ],
   "source": [
    "print(\"Training set class distribution:\")\n",
    "print(y_train.value_counts())"
   ]
  },
  {
   "cell_type": "code",
   "execution_count": 31,
   "id": "2752018a-f3bd-4fda-81e8-86ccca987759",
   "metadata": {},
   "outputs": [
    {
     "name": "stdout",
     "output_type": "stream",
     "text": [
      "\n",
      "Test set class distribution:\n",
      "Rating\n",
      "5    4009\n",
      "4    1735\n",
      "3     775\n",
      "1     400\n",
      "2     400\n",
      "Name: count, dtype: int64\n"
     ]
    }
   ],
   "source": [
    "print(\"\\nTest set class distribution:\")\n",
    "print(y_test.value_counts())"
   ]
  },
  {
   "cell_type": "code",
   "execution_count": 32,
   "id": "8073c699-4659-4f9a-b142-3d3ca0172876",
   "metadata": {},
   "outputs": [],
   "source": [
    "# Appying preprocessing to train test sets\n",
    "\n",
    "x_train_clean = x_train.apply(normalize_review)\n",
    "x_test_clean  = x_test.apply(normalize_review)\n",
    "\n",
    "#Removing rows that didn't pass the preprocessing\n",
    "train_mask = x_train_clean.notna()\n",
    "test_mask  = x_test_clean.notna()\n",
    "\n",
    "x_train_clean, y_train = x_train_clean[train_mask], y_train[train_mask]\n",
    "x_test_clean, y_test   = x_test_clean[test_mask], y_test[test_mask]"
   ]
  },
  {
   "cell_type": "markdown",
   "id": "934f91e5-4a6f-48c2-820a-71cf9e601055",
   "metadata": {},
   "source": [
    "### Vectorization"
   ]
  },
  {
   "cell_type": "code",
   "execution_count": 33,
   "id": "38c57f93-ffa5-4e09-bb97-d799b7c2d3df",
   "metadata": {},
   "outputs": [
    {
     "name": "stdout",
     "output_type": "stream",
     "text": [
      "(29272, 5000) (7319, 5000)\n"
     ]
    }
   ],
   "source": [
    "from sklearn.feature_extraction.text import TfidfVectorizer\n",
    "\n",
    "vectorizer = TfidfVectorizer(max_features=5000)\n",
    "\n",
    "# fitting on training data\n",
    "x_train_vec = vectorizer.fit_transform(x_train_clean)\n",
    "\n",
    "# Transforming the test data\n",
    "x_test_vec = vectorizer.transform(x_test_clean)\n",
    "\n",
    "print(x_train_vec.shape, x_test_vec.shape)"
   ]
  },
  {
   "cell_type": "code",
   "execution_count": null,
   "id": "967775ce-cb31-4adf-a3db-89c814d0c9cc",
   "metadata": {},
   "outputs": [],
   "source": []
  }
 ],
 "metadata": {
  "kernelspec": {
   "display_name": "Python [conda env:base] *",
   "language": "python",
   "name": "conda-base-py"
  },
  "language_info": {
   "codemirror_mode": {
    "name": "ipython",
    "version": 3
   },
   "file_extension": ".py",
   "mimetype": "text/x-python",
   "name": "python",
   "nbconvert_exporter": "python",
   "pygments_lexer": "ipython3",
   "version": "3.13.5"
  }
 },
 "nbformat": 4,
 "nbformat_minor": 5
}
